{
 "cells": [
  {
   "cell_type": "code",
   "execution_count": 1,
   "metadata": {},
   "outputs": [],
   "source": [
    "#importing the files\n",
    "import numpy as np\n",
    "import pandas as pda\n",
    "from sklearn.model_selection import train_test_split as tts\n",
    "import matplotlib.pyplot as plt\n",
    "from numpy.linalg import inv\n",
    "import math\n",
    "import itertools\n",
    "from sklearn.metrics import confusion_matrix\n",
    "from sklearn.metrics import accuracy_score"
   ]
  },
  {
   "cell_type": "code",
   "execution_count": 2,
   "metadata": {},
   "outputs": [],
   "source": [
    "microData = pda.read_csv('Microchip_Data.csv')"
   ]
  },
  {
   "cell_type": "code",
   "execution_count": 3,
   "metadata": {},
   "outputs": [],
   "source": [
    "trainingSet,testingSet = tts(microData,test_size=0.3,random_state= 6)"
   ]
  },
  {
   "cell_type": "code",
   "execution_count": 4,
   "metadata": {},
   "outputs": [],
   "source": [
    "trainingX = trainingSet[microData.columns[0:2]].copy()\n",
    "trainingY = trainingSet['Pass/Fail'].copy()\n",
    "testingX = testingSet[microData.columns[0:2]].copy()\n",
    "testingY = testingSet['Pass/Fail'].copy()"
   ]
  },
  {
   "cell_type": "code",
   "execution_count": 5,
   "metadata": {},
   "outputs": [],
   "source": [
    "trainingX = trainingX.to_numpy()\n",
    "trainingY = trainingY.to_numpy()\n",
    "testingX = testingX.to_numpy()\n",
    "testingY = testingY.to_numpy()"
   ]
  },
  {
   "cell_type": "code",
   "execution_count": 6,
   "metadata": {},
   "outputs": [],
   "source": [
    "mini = np.min(trainingX,axis=0)\n",
    "maxi = np.max(trainingX,axis=0)"
   ]
  },
  {
   "cell_type": "code",
   "execution_count": 7,
   "metadata": {},
   "outputs": [],
   "source": [
    "trainingX = (trainingX - mini)/(maxi - mini)"
   ]
  },
  {
   "cell_type": "code",
   "execution_count": 8,
   "metadata": {},
   "outputs": [],
   "source": [
    "mini = np.min(testingX,axis=0)\n",
    "maxi = np.max(testingX,axis=0)"
   ]
  },
  {
   "cell_type": "code",
   "execution_count": 9,
   "metadata": {},
   "outputs": [],
   "source": [
    "testingX = (testingX - mini)/(maxi - mini)"
   ]
  },
  {
   "cell_type": "code",
   "execution_count": 10,
   "metadata": {},
   "outputs": [],
   "source": [
    "u1 = trainingX[:,0]\n",
    "u2 = trainingX[:,1]"
   ]
  },
  {
   "cell_type": "code",
   "execution_count": 11,
   "metadata": {},
   "outputs": [],
   "source": [
    "def boxMullerTransformation(u1,u2):\n",
    "      z1 = np.sqrt(-2*np.log(u1))*np.cos(2*np.pi*u2)\n",
    "      z2 = np.sqrt(-2*np.log(u1))*np.sin(2*np.pi*u2)\n",
    "      return z1,z2\n",
    "  "
   ]
  },
  {
   "cell_type": "code",
   "execution_count": 12,
   "metadata": {},
   "outputs": [
    {
     "name": "stderr",
     "output_type": "stream",
     "text": [
      "/home/kartic/anaconda3/lib/python3.7/site-packages/ipykernel_launcher.py:2: RuntimeWarning: divide by zero encountered in log\n",
      "  \n",
      "/home/kartic/anaconda3/lib/python3.7/site-packages/ipykernel_launcher.py:3: RuntimeWarning: divide by zero encountered in log\n",
      "  This is separate from the ipykernel package so we can avoid doing imports until\n"
     ]
    }
   ],
   "source": [
    "z1,z2 = boxMullerTransformation(u1,u2)"
   ]
  },
  {
   "cell_type": "code",
   "execution_count": 13,
   "metadata": {},
   "outputs": [],
   "source": [
    "trainY = []\n",
    "X_one = []\n",
    "X_zero = []\n",
    "for i in range(len(trainingY)):\n",
    "    if(z1[i]!= -math.inf and z1[i]!= math.inf and z2[i]!= -math.inf and z2[i]!= math.inf):\n",
    "        if trainingY[i] == 1:\n",
    "            X_one.append([z1[i],z2[i]])\n",
    "        else:\n",
    "            X_zero.append([z1[i],z2[i]])\n",
    "        trainY.append(trainingY[i])\n",
    "        "
   ]
  },
  {
   "cell_type": "code",
   "execution_count": 14,
   "metadata": {},
   "outputs": [
    {
     "name": "stdout",
     "output_type": "stream",
     "text": [
      "Phi =  0.4444444444444444\n",
      "mu0 =  [[0.23553374 0.0951008 ]]\n",
      "mu1 =  [[-0.26018669 -0.04174775]]\n"
     ]
    }
   ],
   "source": [
    "phi = float(len(X_one)/(len(X_one)+len(X_zero)))\n",
    "mu0 = np.sum(np.matrix(X_zero),axis = 0)/len(X_zero)\n",
    "mu1 = np.sum(np.matrix(X_one),axis = 0)/len(X_one)\n",
    "print(\"Phi = \", phi)\n",
    "print(\"mu0 = \", mu0)\n",
    "print(\"mu1 = \", mu1)"
   ]
  },
  {
   "cell_type": "code",
   "execution_count": 15,
   "metadata": {},
   "outputs": [],
   "source": [
    "sigma = np.zeros((2,2))\n",
    "sigma0 = np.zeros((2,2))\n",
    "sigma1 = np.zeros((2,2))"
   ]
  },
  {
   "cell_type": "code",
   "execution_count": 16,
   "metadata": {},
   "outputs": [],
   "source": [
    "for i in range(len(X_zero)):\n",
    "    sigma0 += np.dot(np.transpose(X_zero[i]-mu0),X_zero[i]-mu0)\n",
    "    \n",
    "for i in range(len(X_one)):\n",
    "    sigma1 += np.dot(np.transpose(X_one[i]-mu1),X_one[i]-mu1)"
   ]
  },
  {
   "cell_type": "code",
   "execution_count": 17,
   "metadata": {},
   "outputs": [
    {
     "name": "stdout",
     "output_type": "stream",
     "text": [
      "Sigma =  [[ 0.67859136 -0.04991619]\n",
      " [-0.04991619  1.33673841]]\n",
      "Sigma0 =  [[ 0.96288516 -0.15686556]\n",
      " [-0.15686556  1.75783922]]\n",
      "Sigma1 =  [[0.45115632 0.0356433 ]\n",
      " [0.0356433  0.99985777]]\n"
     ]
    }
   ],
   "source": [
    "sigma = (sigma1 + sigma0)/len(trainY)\n",
    "sigma0 /= len(X_one)\n",
    "sigma1 /= len(X_zero)\n",
    "print(\"Sigma = \",sigma)\n",
    "print(\"Sigma0 = \",sigma0)\n",
    "print(\"Sigma1 = \",sigma1)"
   ]
  },
  {
   "cell_type": "code",
   "execution_count": 18,
   "metadata": {},
   "outputs": [],
   "source": [
    "def probFunction(x,mu,sigma):\n",
    "    m = len(x)\n",
    "    if m == mu.shape[1] and (m,m) == sigma.shape:\n",
    "        deter = np.linalg.det(sigma)\n",
    "        assert deter!=0, \"matrix cannot be singular\"\n",
    "        \n",
    "        temp = 1.0/(np.power((2*np.pi),float(m)/2)*np.power(deter,1.0/2))\n",
    "        xmu = np.matrix(x-mu)\n",
    "        siginv = inv(sigma)\n",
    "        res = np.power(np.e,-0.5*(np.dot(np.dot(xmu,siginv),np.transpose(xmu))))\n",
    "        return res*temp\n"
   ]
  },
  {
   "cell_type": "code",
   "execution_count": 19,
   "metadata": {},
   "outputs": [
    {
     "name": "stdout",
     "output_type": "stream",
     "text": [
      "[[0.09332424]] [[0.04579939]]\n",
      "[[0.1014882]] [[0.08886156]]\n",
      "[[0.09998851]] [[0.0929653]]\n",
      "[[0.12165498]] [[0.15454905]]\n",
      "[[0.10670083]] [[0.15320678]]\n",
      "[[0.11376384]] [[0.15239518]]\n",
      "[[0.07821309]] [[0.04109959]]\n",
      "[[0.12181813]] [[0.18449405]]\n",
      "[[0.08606325]] [[0.05306357]]\n",
      "[[0.11487783]] [[0.10649379]]\n",
      "[[0.11552915]] [[0.16465249]]\n",
      "[[0.1120405]] [[0.1347235]]\n",
      "[[0.09065917]] [[0.07186717]]\n",
      "[[0.08512186]] [[0.04408896]]\n",
      "[[0.08231453]] [[0.04043668]]\n",
      "[[0.10480631]] [[0.11594507]]\n",
      "[[0.11421281]] [[0.10104355]]\n",
      "[[0.1003675]] [[0.08390804]]\n",
      "[[0.11559952]] [[0.14346128]]\n",
      "[[0.09434166]] [[0.05627473]]\n",
      "[[0.09382473]] [[0.082513]]\n",
      "[[0.10011362]] [[0.05895139]]\n",
      "[[0.11661714]] [[0.12297109]]\n",
      "[[0.09693776]] [[0.10517466]]\n",
      "[[0.0960022]] [[0.07383003]]\n",
      "[[0.11869867]] [[0.1526816]]\n",
      "[[0.08773855]] [[0.03939178]]\n",
      "[[0.09100518]] [[0.05655245]]\n",
      "[[0.09857137]] [[0.09599196]]\n",
      "[[0.10232614]] [[0.11856015]]\n",
      "[[0.11591898]] [[0.19521864]]\n",
      "[[0.0828976]] [[0.04404027]]\n",
      "[[0.1083749]] [[0.11179368]]\n",
      "[[0.09439359]] [[0.05873123]]\n",
      "[[0.11966965]] [[0.16227239]]\n",
      "[[0.0878757]] [[0.05931717]]\n"
     ]
    }
   ],
   "source": [
    "predictedY = []\n",
    "for x in testingX:\n",
    "    pa = probFunction(x,np.squeeze(mu0),np.matrix(sigma0))\n",
    "    pc = probFunction(x,np.squeeze(mu1),np.matrix(sigma1))\n",
    "    print(pa , pc)\n",
    "    if (pa<=pc):\n",
    "        predictedY.append(1)\n",
    "    else:\n",
    "        predictedY.append(0)"
   ]
  },
  {
   "cell_type": "code",
   "execution_count": 20,
   "metadata": {},
   "outputs": [
    {
     "name": "stdout",
     "output_type": "stream",
     "text": [
      "63.888888888888886\n"
     ]
    }
   ],
   "source": [
    "count = 0\n",
    "for i in range(len(testingY)):\n",
    "    if(predictedY[i]==testingY[i]):\n",
    "        count = count + 1\n",
    "\n",
    "accuracy = np.multiply(np.divide(count,len(testingY)),100)\n",
    "print(accuracy)"
   ]
  },
  {
   "cell_type": "code",
   "execution_count": 21,
   "metadata": {},
   "outputs": [
    {
     "data": {
      "text/plain": [
       "array([[11,  3],\n",
       "       [10, 12]])"
      ]
     },
     "execution_count": 21,
     "metadata": {},
     "output_type": "execute_result"
    }
   ],
   "source": [
    "confusion_matrix(testingY,predictedY)"
   ]
  }
 ],
 "metadata": {
  "kernelspec": {
   "display_name": "Python 3",
   "language": "python",
   "name": "python3"
  },
  "language_info": {
   "codemirror_mode": {
    "name": "ipython",
    "version": 3
   },
   "file_extension": ".py",
   "mimetype": "text/x-python",
   "name": "python",
   "nbconvert_exporter": "python",
   "pygments_lexer": "ipython3",
   "version": "3.7.7"
  }
 },
 "nbformat": 4,
 "nbformat_minor": 4
}

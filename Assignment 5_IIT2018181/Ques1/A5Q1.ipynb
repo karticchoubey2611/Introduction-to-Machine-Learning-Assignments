{
 "cells": [
  {
   "cell_type": "code",
   "execution_count": 1,
   "metadata": {},
   "outputs": [],
   "source": [
    "#importing the files\n",
    "import numpy as np\n",
    "import pandas as pda\n",
    "from sklearn.model_selection import train_test_split as tts\n",
    "import matplotlib.pyplot as plt\n",
    "from numpy.linalg import inv\n",
    "import math\n",
    "import itertools\n",
    "from sklearn.metrics import confusion_matrix\n",
    "from sklearn.metrics import accuracy_score"
   ]
  },
  {
   "cell_type": "code",
   "execution_count": 2,
   "metadata": {},
   "outputs": [],
   "source": [
    "microData = pda.read_csv('Microchip_Data.csv')"
   ]
  },
  {
   "cell_type": "code",
   "execution_count": 3,
   "metadata": {},
   "outputs": [],
   "source": [
    "trainingSet,testingSet = tts(microData,test_size=0.3,random_state= 30)"
   ]
  },
  {
   "cell_type": "code",
   "execution_count": 4,
   "metadata": {},
   "outputs": [],
   "source": [
    "trainingX = trainingSet[microData.columns[0:2]].copy()\n",
    "trainingY = trainingSet['Pass/Fail'].copy()\n",
    "testingX = testingSet[microData.columns[0:2]].copy()\n",
    "testingY = testingSet['Pass/Fail'].copy()"
   ]
  },
  {
   "cell_type": "code",
   "execution_count": 5,
   "metadata": {},
   "outputs": [],
   "source": [
    "trainingX = trainingX.to_numpy()\n",
    "trainingY = trainingY.to_numpy()\n",
    "testingX = testingX.to_numpy()\n",
    "testingY = testingY.to_numpy()"
   ]
  },
  {
   "cell_type": "code",
   "execution_count": 6,
   "metadata": {},
   "outputs": [],
   "source": [
    "addTraining = []\n",
    "addTesting = []\n",
    "\n",
    "for i in range(len(trainingX)):\n",
    "    addTraining.append([trainingX[i][0]**2,trainingX[i][1]**2,trainingX[i][0]*trainingX[i][1]])\n",
    "for i in range(len(testingX)):\n",
    "    addTesting.append([testingX[i][0]**2,testingX[i][1]**2,testingX[i][0]*testingX[i][1]])"
   ]
  },
  {
   "cell_type": "code",
   "execution_count": 7,
   "metadata": {},
   "outputs": [],
   "source": [
    "trainingX = np.concatenate((trainingX,addTraining),axis=1)\n",
    "testingX = np.concatenate((testingX,addTesting),axis=1)"
   ]
  },
  {
   "cell_type": "code",
   "execution_count": 8,
   "metadata": {},
   "outputs": [],
   "source": [
    "mini = np.min(trainingX,axis=0)\n",
    "maxi = np.max(trainingX,axis=0)"
   ]
  },
  {
   "cell_type": "code",
   "execution_count": 9,
   "metadata": {},
   "outputs": [],
   "source": [
    "trainingX = (trainingX - mini)/(maxi - mini)"
   ]
  },
  {
   "cell_type": "code",
   "execution_count": 10,
   "metadata": {},
   "outputs": [],
   "source": [
    "mini = np.min(testingX,axis=0)\n",
    "maxi = np.max(testingX,axis=0)"
   ]
  },
  {
   "cell_type": "code",
   "execution_count": 11,
   "metadata": {},
   "outputs": [],
   "source": [
    "testingX = (testingX - mini)/(maxi - mini)"
   ]
  },
  {
   "cell_type": "code",
   "execution_count": 12,
   "metadata": {},
   "outputs": [],
   "source": [
    "X_one = []\n",
    "X_zero = []\n",
    "\n",
    "for i in range(len(trainingY)):\n",
    "    if trainingY[i] == 1:\n",
    "        X_one.append([trainingX[i][0],trainingX[i][1],trainingX[i][2],trainingX[i][3],trainingX[i][4]])\n",
    "    else:\n",
    "        X_zero.append([trainingX[i][0],trainingX[i][1],trainingX[i][2],trainingX[i][3],trainingX[i][4]])"
   ]
  },
  {
   "cell_type": "code",
   "execution_count": 13,
   "metadata": {},
   "outputs": [
    {
     "name": "stdout",
     "output_type": "stream",
     "text": [
      "Phi =  0.5365853658536586\n",
      "mu0 =  [[0.51794166 0.51907225 0.34641179 0.3463046  0.47239801]]\n",
      "mu1 =  [[0.49769095 0.50957137 0.19042111 0.18642523 0.43279346]]\n"
     ]
    }
   ],
   "source": [
    "phi = float(len(X_one)/(len(X_one)+len(X_zero)))\n",
    "mu0 = np.sum(np.matrix(X_zero),axis = 0)/len(X_zero)\n",
    "mu1 = np.sum(np.matrix(X_one),axis = 0)/len(X_one)\n",
    "print(\"Phi = \", phi)\n",
    "print(\"mu0 = \", mu0)\n",
    "print(\"mu1 = \", mu1)"
   ]
  },
  {
   "cell_type": "code",
   "execution_count": 14,
   "metadata": {},
   "outputs": [],
   "source": [
    "sigma = np.zeros((5,5))\n",
    "sigma0 = np.zeros((5,5))\n",
    "sigma1 = np.zeros((5,5))"
   ]
  },
  {
   "cell_type": "code",
   "execution_count": 15,
   "metadata": {},
   "outputs": [],
   "source": [
    "for i in range(len(trainingX)):\n",
    "    if(trainingY[i] == 1):\n",
    "        sigma1 += np.dot(np.transpose(trainingX[i]-mu1),trainingX[i]-mu1)\n",
    "    else:\n",
    "        sigma0 += np.dot(np.transpose(trainingX[i]-mu0),trainingX[i]-mu0)"
   ]
  },
  {
   "cell_type": "code",
   "execution_count": 16,
   "metadata": {
    "scrolled": false
   },
   "outputs": [
    {
     "name": "stdout",
     "output_type": "stream",
     "text": [
      "Sigma =  [[ 0.07182099 -0.00946001  0.021655    0.0012347   0.01438131]\n",
      " [-0.00946001  0.07938856 -0.01069037  0.0382644   0.01379159]\n",
      " [ 0.021655   -0.01069037  0.05704541 -0.02531739 -0.00519735]\n",
      " [ 0.0012347   0.0382644  -0.02531739  0.04885136 -0.00055653]\n",
      " [ 0.01438131  0.01379159 -0.00519735 -0.00055653  0.04646943]]\n",
      "Sigma0 =  [[ 0.08148041 -0.00346765  0.0220916   0.0033302   0.01717463]\n",
      " [-0.00346765  0.09307716 -0.01168196  0.0474927   0.01817228]\n",
      " [ 0.0220916  -0.01168196  0.07798902 -0.03826915 -0.00955074]\n",
      " [ 0.0033302   0.0474927  -0.03826915  0.06078777  0.00397187]\n",
      " [ 0.01717463  0.01817228 -0.00955074  0.00397187  0.06253744]]\n",
      "Sigma1 =  [[ 0.0606364  -0.01639852  0.02114947 -0.00119167  0.01114695]\n",
      " [-0.01639852  0.06353861 -0.00954222  0.02757901  0.00871921]\n",
      " [ 0.02114947 -0.00954222  0.03279492 -0.0103206  -0.00015657]\n",
      " [-0.00119167  0.02757901 -0.0103206   0.03503026 -0.00579993]\n",
      " [ 0.01114695  0.00871921 -0.00015657 -0.00579993  0.02786436]]\n"
     ]
    }
   ],
   "source": [
    "sigma = (sigma1 + sigma0)/trainingX.shape[0]\n",
    "sigma0 /= len(X_one)\n",
    "sigma1 /= len(X_zero)\n",
    "print(\"Sigma = \",sigma)\n",
    "print(\"Sigma0 = \",sigma0)\n",
    "print(\"Sigma1 = \",sigma1)"
   ]
  },
  {
   "cell_type": "code",
   "execution_count": 17,
   "metadata": {},
   "outputs": [],
   "source": [
    "def probFunction(x,mu,sigma):\n",
    "    m = len(x)\n",
    "    if m == mu.shape[1] and (m,m) == sigma.shape:\n",
    "        deter = np.linalg.det(sigma)\n",
    "        assert deter!=0, \"matrix cannot be singular\"\n",
    "        \n",
    "        temp = 1.0/(np.power((2*np.pi),float(m)/2)*np.power(deter,1.0/2))\n",
    "        xmu = np.matrix(x-mu)\n",
    "        siginv = inv(sigma)\n",
    "        res = np.power(np.e,-0.5*(np.dot(np.dot(xmu,siginv),np.transpose(xmu))))\n",
    "        return res*temp\n"
   ]
  },
  {
   "cell_type": "code",
   "execution_count": 18,
   "metadata": {},
   "outputs": [],
   "source": [
    "predictedY = []\n",
    "for x in testingX:\n",
    "    pa = probFunction(x,np.squeeze(mu0),np.matrix(sigma0))\n",
    "    pc = probFunction(x,np.squeeze(mu1),np.matrix(sigma1))\n",
    "    if (pa<pc):\n",
    "        predictedY.append(1)\n",
    "    else:\n",
    "        predictedY.append(0)"
   ]
  },
  {
   "cell_type": "code",
   "execution_count": 19,
   "metadata": {},
   "outputs": [
    {
     "name": "stdout",
     "output_type": "stream",
     "text": [
      "88.88888888888889\n"
     ]
    }
   ],
   "source": [
    "count = 0\n",
    "for i in range(len(testingY)):\n",
    "    if(predictedY[i]==testingY[i]):\n",
    "        count = count + 1\n",
    "\n",
    "accuracy = np.multiply(np.divide(count,len(testingY)),100)\n",
    "print(accuracy)"
   ]
  },
  {
   "cell_type": "code",
   "execution_count": 20,
   "metadata": {},
   "outputs": [
    {
     "data": {
      "text/plain": [
       "0.8888888888888888"
      ]
     },
     "execution_count": 20,
     "metadata": {},
     "output_type": "execute_result"
    }
   ],
   "source": [
    "accuracy_score(testingY,predictedY)"
   ]
  },
  {
   "cell_type": "code",
   "execution_count": 21,
   "metadata": {},
   "outputs": [
    {
     "data": {
      "text/plain": [
       "array([[18,  4],\n",
       "       [ 0, 14]])"
      ]
     },
     "execution_count": 21,
     "metadata": {},
     "output_type": "execute_result"
    }
   ],
   "source": [
    "confusion_matrix(testingY,predictedY)"
   ]
  }
 ],
 "metadata": {
  "kernelspec": {
   "display_name": "Python 3",
   "language": "python",
   "name": "python3"
  },
  "language_info": {
   "codemirror_mode": {
    "name": "ipython",
    "version": 3
   },
   "file_extension": ".py",
   "mimetype": "text/x-python",
   "name": "python",
   "nbconvert_exporter": "python",
   "pygments_lexer": "ipython3",
   "version": "3.7.7"
  }
 },
 "nbformat": 4,
 "nbformat_minor": 4
}

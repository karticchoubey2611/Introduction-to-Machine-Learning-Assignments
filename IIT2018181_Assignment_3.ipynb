{
  "nbformat": 4,
  "nbformat_minor": 0,
  "metadata": {
    "colab": {
      "name": "IIT2018181_Assignment_3.ipynb",
      "provenance": []
    },
    "kernelspec": {
      "name": "python3",
      "display_name": "Python 3"
    }
  },
  "cells": [
    {
      "cell_type": "code",
      "metadata": {
        "id": "k2QDr0bIBUC8",
        "colab_type": "code",
        "colab": {}
      },
      "source": [
        "#importing the files\n",
        "import numpy as np\n",
        "import pylab as pyl\n"
      ],
      "execution_count": 60,
      "outputs": []
    },
    {
      "cell_type": "code",
      "metadata": {
        "id": "ijgZRx_yB8_H",
        "colab_type": "code",
        "colab": {}
      },
      "source": [
        "# this is our Box Muller Transformation function\n",
        "def boxMullerTransformation(x1,x2):\n",
        "  y1 = np.sqrt(-2*np.log(x1))*np.cos(2*np.pi*x2)\n",
        "  y2 = np.sqrt(-2*np.log(x1))*np.sin(2*np.pi*x2)\n",
        "  return y1,y2"
      ],
      "execution_count": 61,
      "outputs": []
    },
    {
      "cell_type": "code",
      "metadata": {
        "id": "0iPO2cUwCiq-",
        "colab_type": "code",
        "colab": {}
      },
      "source": [
        "#generating Random variables which is uniformly distributed in the range [0,1]\n",
        "x1 = np.random.rand(10000)\n",
        "x2 = np.random.rand(10000)\n"
      ],
      "execution_count": 62,
      "outputs": []
    },
    {
      "cell_type": "code",
      "metadata": {
        "id": "Sg2FVfibC3TQ",
        "colab_type": "code",
        "colab": {}
      },
      "source": [
        "# y1 & y2 are independent random variables with a standard normal distribution\n",
        "y1,y2 = boxMullerTransformation(x1,x2)"
      ],
      "execution_count": 64,
      "outputs": []
    },
    {
      "cell_type": "code",
      "metadata": {
        "id": "zJL3-E3pDDds",
        "colab_type": "code",
        "colab": {
          "base_uri": "https://localhost:8080/",
          "height": 279
        },
        "outputId": "ea6747ee-d538-40be-c5ab-7f4ba8cffc03"
      },
      "source": [
        "#plotting the graph for x1\n",
        "pyl.figure()\n",
        "pyl.plot() \n",
        "pyl.xlabel('X Axis')\n",
        "pyl.ylabel('Y Axis')\n",
        "pyl.hist(x1,color='green')     \n",
        "pyl.show()"
      ],
      "execution_count": 65,
      "outputs": [
        {
          "output_type": "display_data",
          "data": {
            "image/png": "[encoded data removed]",
            "text/plain": [
              "<Figure size 432x288 with 1 Axes>"
            ]
          },
          "metadata": {
            "tags": [],
            "needs_background": "light"
          }
        }
      ]
    },
    {
      "cell_type": "code",
      "metadata": {
        "id": "yuQr5LnHOUyI",
        "colab_type": "code",
        "colab": {
          "base_uri": "https://localhost:8080/",
          "height": 279
        },
        "outputId": "97d30f36-b8fa-489f-e4c8-f62660b6da90"
      },
      "source": [
        "#plotting the graph for x2\n",
        "pyl.figure()\n",
        "pyl.plot() \n",
        "pyl.xlabel('X Axis')\n",
        "pyl.ylabel('Y Axis')\n",
        "pyl.hist(x2,color= 'red')     \n",
        "pyl.show()"
      ],
      "execution_count": 66,
      "outputs": [
        {
          "output_type": "display_data",
          "data": {
            "image/png": "[encoded data removed]",
            "text/plain": [
              "<Figure size 432x288 with 1 Axes>"
            ]
          },
          "metadata": {
            "tags": [],
            "needs_background": "light"
          }
        }
      ]
    },
    {
      "cell_type": "code",
      "metadata": {
        "id": "fv0PTBj3Odf3",
        "colab_type": "code",
        "colab": {
          "base_uri": "https://localhost:8080/",
          "height": 279
        },
        "outputId": "60205d24-2bb9-40fa-996d-a325686264b4"
      },
      "source": [
        "#plotting the graph for y1\n",
        "pyl.figure()\n",
        "pyl.plot() \n",
        "pyl.xlabel('X Axis')\n",
        "pyl.ylabel('Y Axis')\n",
        "pyl.hist(y1,color= 'yellow')     \n",
        "pyl.show()"
      ],
      "execution_count": 67,
      "outputs": [
        {
          "output_type": "display_data",
          "data": {
            "image/png": "[encoded data removed]",
            "text/plain": [
              "<Figure size 432x288 with 1 Axes>"
            ]
          },
          "metadata": {
            "tags": [],
            "needs_background": "light"
          }
        }
      ]
    },
    {
      "cell_type": "code",
      "metadata": {
        "id": "KAOIVDY8OkeV",
        "colab_type": "code",
        "colab": {
          "base_uri": "https://localhost:8080/",
          "height": 279
        },
        "outputId": "f7876333-5d1c-4922-e962-b36b58e28f19"
      },
      "source": [
        "#plotting the graph for y2\n",
        "pyl.figure()\n",
        "pyl.plot() \n",
        "pyl.xlabel('X Axis')\n",
        "pyl.ylabel('Y Axis')\n",
        "pyl.hist(y2)     \n",
        "pyl.show()"
      ],
      "execution_count": 68,
      "outputs": [
        {
          "output_type": "display_data",
          "data": {
            "image/png": "[encoded data removed]",
            "text/plain": [
              "<Figure size 432x288 with 1 Axes>"
            ]
          },
          "metadata": {
            "tags": [],
            "needs_background": "light"
          }
        }
      ]
    }
  ]
}
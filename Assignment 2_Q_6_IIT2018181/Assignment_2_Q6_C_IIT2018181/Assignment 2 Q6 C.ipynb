{
 "cells": [
  {
   "cell_type": "code",
   "execution_count": 1,
   "metadata": {},
   "outputs": [],
   "source": [
    "#importing the files\n",
    "import numpy as np\n",
    "import pandas as pda\n",
    "from sklearn.model_selection import train_test_split as tts\n",
    "import matplotlib.pyplot as plt\n",
    "import code as cd"
   ]
  },
  {
   "cell_type": "code",
   "execution_count": 2,
   "metadata": {},
   "outputs": [],
   "source": [
    "#reading the csv file with the help of pandas\n",
    "housingData = pda.read_csv('Housing_price_data_set.csv')"
   ]
  },
  {
   "cell_type": "code",
   "execution_count": 3,
   "metadata": {},
   "outputs": [],
   "source": [
    "#dropping the Unnamed: 0 axis\n",
    "housingData.drop('Unnamed: 0',axis=1,inplace = True)"
   ]
  },
  {
   "cell_type": "code",
   "execution_count": 4,
   "metadata": {},
   "outputs": [],
   "source": [
    "#dividing the data into training set and testing set\n",
    "trainingSet, testingSet = tts(housingData,test_size=0.3,random_state = 39)"
   ]
  },
  {
   "cell_type": "code",
   "execution_count": 5,
   "metadata": {},
   "outputs": [],
   "source": [
    "#taking the lotsize, no of bedrooms and number of bathrooms as X and price as Y\n",
    "trainingX = trainingSet[housingData.columns[1:4]].copy()\n",
    "trainingY = trainingSet['price'].copy()\n",
    "testingX = testingSet[housingData.columns[1:4]].copy()\n",
    "testingY = testingSet['price'].copy()"
   ]
  },
  {
   "cell_type": "code",
   "execution_count": 6,
   "metadata": {},
   "outputs": [],
   "source": [
    "#converting them to numpy\n",
    "trainingX = trainingX.to_numpy()\n",
    "trainingY = trainingY.to_numpy()\n",
    "testingX = testingX.to_numpy()\n",
    "testingY = testingY.to_numpy()"
   ]
  },
  {
   "cell_type": "code",
   "execution_count": 7,
   "metadata": {},
   "outputs": [],
   "source": [
    "#concatenating the column with one from front\n",
    "trainingX = np.concatenate([np.ones((trainingX.shape[0] ,1)), trainingX], axis=1)\n",
    "testingX = np.concatenate([np.ones((testingX.shape[0], 1)), testingX], axis=1)"
   ]
  },
  {
   "cell_type": "code",
   "execution_count": 8,
   "metadata": {},
   "outputs": [],
   "source": [
    "###################################  PREDICTION WITHOUT REGULARIZATION ###########################################"
   ]
  },
  {
   "cell_type": "code",
   "execution_count": 9,
   "metadata": {},
   "outputs": [],
   "source": [
    "# 1. Batch Gradient Descent Algorithm"
   ]
  },
  {
   "cell_type": "code",
   "execution_count": 10,
   "metadata": {},
   "outputs": [],
   "source": [
    "theta = np.zeros(trainingX.shape[1])"
   ]
  },
  {
   "cell_type": "code",
   "execution_count": 11,
   "metadata": {},
   "outputs": [],
   "source": [
    "costList,theta = cd.batch_gradient_descent(trainingX,trainingY, theta, 1500, 0.0000000001)"
   ]
  },
  {
   "cell_type": "code",
   "execution_count": 12,
   "metadata": {},
   "outputs": [
    {
     "data": {
      "text/plain": [
       "Text(0, 0.5, 'Cost')"
      ]
     },
     "execution_count": 12,
     "metadata": {},
     "output_type": "execute_result"
    },
    {
     "data": {
      "image/png": "[encoded data removed]",
      "text/plain": [
       "<Figure size 432x288 with 1 Axes>"
      ]
     },
     "metadata": {
      "needs_background": "light"
     },
     "output_type": "display_data"
    }
   ],
   "source": [
    "plt.plot(np.arange(len(costList)), costList, lw=2)\n",
    "plt.xlabel('Number of Epochs')\n",
    "plt.ylabel('Cost')"
   ]
  },
  {
   "cell_type": "code",
   "execution_count": 13,
   "metadata": {},
   "outputs": [],
   "source": [
    "predictedY = testingX.dot(theta)"
   ]
  },
  {
   "cell_type": "code",
   "execution_count": 14,
   "metadata": {},
   "outputs": [
    {
     "name": "stdout",
     "output_type": "stream",
     "text": [
      "w0:  0.0027686716224252497\n",
      "w1:  12.091782081555808\n",
      "w2:  0.008964713156088808\n",
      "w3:  0.004328343394484296\n",
      "Error:  27.81186883732911\n",
      "Accuracy:  72.18813116267089\n"
     ]
    }
   ],
   "source": [
    "difference = np.abs(np.subtract(predictedY,testingY))\n",
    "yoyo = np.divide(difference, testingY)\n",
    "error = np.multiply(yoyo,100)\n",
    "print('w0: ', theta[0])\n",
    "print('w1: ', theta[1])\n",
    "print('w2: ', theta[2])\n",
    "print('w3: ', theta[3])\n",
    "print('Error: ', np.mean(error))\n",
    "accuracy = 100 - np.mean(error)\n",
    "print('Accuracy: ', accuracy)"
   ]
  },
  {
   "cell_type": "code",
   "execution_count": 15,
   "metadata": {},
   "outputs": [],
   "source": [
    "# 2. Stochastic Gradient Descent Algorithm"
   ]
  },
  {
   "cell_type": "code",
   "execution_count": 16,
   "metadata": {},
   "outputs": [],
   "source": [
    "theta1 = np.zeros(trainingX.shape[1])"
   ]
  },
  {
   "cell_type": "code",
   "execution_count": 17,
   "metadata": {},
   "outputs": [],
   "source": [
    "costList1,theta1 = cd.stochastic_gradient_descent(trainingX,trainingY, theta1, 1000, 0.0000000001)"
   ]
  },
  {
   "cell_type": "code",
   "execution_count": 18,
   "metadata": {},
   "outputs": [
    {
     "data": {
      "text/plain": [
       "Text(0, 0.5, 'Cost')"
      ]
     },
     "execution_count": 18,
     "metadata": {},
     "output_type": "execute_result"
    },
    {
     "data": {
      "image/png": "[encoded data removed]",
      "text/plain": [
       "<Figure size 432x288 with 1 Axes>"
      ]
     },
     "metadata": {
      "needs_background": "light"
     },
     "output_type": "display_data"
    }
   ],
   "source": [
    "plt.plot(np.arange(len(costList1)), costList1, lw=2)\n",
    "plt.xlabel('Number of Epochs')\n",
    "plt.ylabel('Cost')"
   ]
  },
  {
   "cell_type": "code",
   "execution_count": 19,
   "metadata": {},
   "outputs": [],
   "source": [
    "predictedY = testingX.dot(theta1)"
   ]
  },
  {
   "cell_type": "code",
   "execution_count": 20,
   "metadata": {},
   "outputs": [
    {
     "name": "stdout",
     "output_type": "stream",
     "text": [
      "w0:  0.0027686716224252497\n",
      "w1:  12.091782081555808\n",
      "w2:  0.008964713156088808\n",
      "w3:  0.004328343394484296\n",
      "Error:  27.903064118910525\n",
      "Accuracy:  72.09693588108948\n"
     ]
    }
   ],
   "source": [
    "difference = np.abs(np.subtract(predictedY,testingY))\n",
    "yoyo = np.divide(difference, testingY)\n",
    "error = np.multiply(yoyo,100)\n",
    "print('w0: ', theta[0])\n",
    "print('w1: ', theta[1])\n",
    "print('w2: ', theta[2])\n",
    "print('w3: ', theta[3])\n",
    "print('Error: ', np.mean(error))\n",
    "accuracy = 100 - np.mean(error)\n",
    "print('Accuracy: ', accuracy)"
   ]
  },
  {
   "cell_type": "code",
   "execution_count": 21,
   "metadata": {},
   "outputs": [],
   "source": [
    "# 3. Mini Batch Gradient Descent Algorithm"
   ]
  },
  {
   "cell_type": "code",
   "execution_count": 22,
   "metadata": {},
   "outputs": [],
   "source": [
    "theta2 = np.zeros(trainingX.shape[1])"
   ]
  },
  {
   "cell_type": "code",
   "execution_count": 23,
   "metadata": {},
   "outputs": [],
   "source": [
    "costList2,theta2 = cd.mini_batch_gradient_descent(trainingX,trainingY, theta2, 1500, 0.0000000001)"
   ]
  },
  {
   "cell_type": "code",
   "execution_count": 24,
   "metadata": {},
   "outputs": [
    {
     "data": {
      "text/plain": [
       "Text(0, 0.5, 'Cost')"
      ]
     },
     "execution_count": 24,
     "metadata": {},
     "output_type": "execute_result"
    },
    {
     "data": {
      "image/png": "[encoded data removed]",
      "text/plain": [
       "<Figure size 432x288 with 1 Axes>"
      ]
     },
     "metadata": {
      "needs_background": "light"
     },
     "output_type": "display_data"
    }
   ],
   "source": [
    "plt.plot(np.arange(len(costList2)), costList2, lw=2)\n",
    "plt.xlabel('Number of Epochs')\n",
    "plt.ylabel('Cost')"
   ]
  },
  {
   "cell_type": "code",
   "execution_count": 25,
   "metadata": {},
   "outputs": [],
   "source": [
    "predictedY = testingX.dot(theta2)"
   ]
  },
  {
   "cell_type": "code",
   "execution_count": 26,
   "metadata": {},
   "outputs": [
    {
     "name": "stdout",
     "output_type": "stream",
     "text": [
      "w0:  0.0027686716224252497\n",
      "w1:  12.091782081555808\n",
      "w2:  0.008964713156088808\n",
      "w3:  0.004328343394484296\n",
      "Error:  27.821051731494972\n",
      "Accuracy:  72.17894826850502\n"
     ]
    }
   ],
   "source": [
    "difference = np.abs(np.subtract(predictedY,testingY))\n",
    "yoyo = np.divide(difference, testingY)\n",
    "error = np.multiply(yoyo,100)\n",
    "print('w0: ', theta[0])\n",
    "print('w1: ', theta[1])\n",
    "print('w2: ', theta[2])\n",
    "print('w3: ', theta[3])\n",
    "print('Error: ', np.mean(error))\n",
    "accuracy = 100 - np.mean(error)\n",
    "print('Accuracy: ', accuracy)"
   ]
  },
  {
   "cell_type": "code",
   "execution_count": 27,
   "metadata": {},
   "outputs": [],
   "source": [
    "###################################  PREDICTION WITH REGULARIZATION ##############################################"
   ]
  },
  {
   "cell_type": "code",
   "execution_count": 28,
   "metadata": {},
   "outputs": [],
   "source": [
    "# 1. Batch Gradient Descent Algorithm"
   ]
  },
  {
   "cell_type": "code",
   "execution_count": 29,
   "metadata": {},
   "outputs": [],
   "source": [
    "theta3 = np.zeros(trainingX.shape[1])"
   ]
  },
  {
   "cell_type": "code",
   "execution_count": 30,
   "metadata": {},
   "outputs": [],
   "source": [
    "costList3,theta3 = cd.batch_gradient_descent_reg(trainingX,trainingY, theta2, 1500, 0.0000000001)"
   ]
  },
  {
   "cell_type": "code",
   "execution_count": 31,
   "metadata": {},
   "outputs": [
    {
     "data": {
      "text/plain": [
       "Text(0, 0.5, 'Cost')"
      ]
     },
     "execution_count": 31,
     "metadata": {},
     "output_type": "execute_result"
    },
    {
     "data": {
      "image/png": "[encoded data removed]",
      "text/plain": [
       "<Figure size 432x288 with 1 Axes>"
      ]
     },
     "metadata": {
      "needs_background": "light"
     },
     "output_type": "display_data"
    }
   ],
   "source": [
    "plt.plot(np.arange(len(costList3)), costList3, lw=2)\n",
    "plt.xlabel('Number of Epochs')\n",
    "plt.ylabel('Cost')"
   ]
  },
  {
   "cell_type": "code",
   "execution_count": 32,
   "metadata": {},
   "outputs": [],
   "source": [
    "predictedY = testingX.dot(theta3)"
   ]
  },
  {
   "cell_type": "code",
   "execution_count": 33,
   "metadata": {},
   "outputs": [
    {
     "name": "stdout",
     "output_type": "stream",
     "text": [
      "w0:  0.0027686716224252497\n",
      "w1:  12.091782081555808\n",
      "w2:  0.008964713156088808\n",
      "w3:  0.004328343394484296\n",
      "Error:  27.82833170717051\n",
      "Accuracy:  72.1716682928295\n"
     ]
    }
   ],
   "source": [
    "difference = np.abs(np.subtract(predictedY,testingY))\n",
    "yoyo = np.divide(difference, testingY)\n",
    "error = np.multiply(yoyo,100)\n",
    "print('w0: ', theta[0])\n",
    "print('w1: ', theta[1])\n",
    "print('w2: ', theta[2])\n",
    "print('w3: ', theta[3])\n",
    "print('Error: ', np.mean(error))\n",
    "accuracy = 100 - np.mean(error)\n",
    "print('Accuracy: ', accuracy)"
   ]
  },
  {
   "cell_type": "code",
   "execution_count": 34,
   "metadata": {},
   "outputs": [],
   "source": [
    "# 2. Stochastic Gradient Descent Algorithm"
   ]
  },
  {
   "cell_type": "code",
   "execution_count": 35,
   "metadata": {},
   "outputs": [],
   "source": [
    "theta4 = np.zeros(trainingX.shape[1])"
   ]
  },
  {
   "cell_type": "code",
   "execution_count": 36,
   "metadata": {},
   "outputs": [],
   "source": [
    "costList4,theta4 = cd.stochastic_gradient_descent_reg(trainingX,trainingY, theta1, 1000, 0.0000000001)"
   ]
  },
  {
   "cell_type": "code",
   "execution_count": 37,
   "metadata": {},
   "outputs": [
    {
     "data": {
      "text/plain": [
       "Text(0, 0.5, 'Cost')"
      ]
     },
     "execution_count": 37,
     "metadata": {},
     "output_type": "execute_result"
    },
    {
     "data": {
      "image/png": "[encoded data removed]",
      "text/plain": [
       "<Figure size 432x288 with 1 Axes>"
      ]
     },
     "metadata": {
      "needs_background": "light"
     },
     "output_type": "display_data"
    }
   ],
   "source": [
    "plt.plot(np.arange(len(costList4)), costList4, lw=2)\n",
    "plt.xlabel('Number of Epochs')\n",
    "plt.ylabel('Cost')"
   ]
  },
  {
   "cell_type": "code",
   "execution_count": 38,
   "metadata": {},
   "outputs": [],
   "source": [
    "predictedY = testingX.dot(theta4)"
   ]
  },
  {
   "cell_type": "code",
   "execution_count": 39,
   "metadata": {},
   "outputs": [
    {
     "name": "stdout",
     "output_type": "stream",
     "text": [
      "w0:  0.0027686716224252497\n",
      "w1:  12.091782081555808\n",
      "w2:  0.008964713156088808\n",
      "w3:  0.004328343394484296\n",
      "Error:  27.815932450924947\n",
      "Accuracy:  72.18406754907505\n"
     ]
    }
   ],
   "source": [
    "difference = np.abs(np.subtract(predictedY,testingY))\n",
    "yoyo = np.divide(difference, testingY)\n",
    "error = np.multiply(yoyo,100)\n",
    "print('w0: ', theta[0])\n",
    "print('w1: ', theta[1])\n",
    "print('w2: ', theta[2])\n",
    "print('w3: ', theta[3])\n",
    "print('Error: ', np.mean(error))\n",
    "accuracy = 100 - np.mean(error)\n",
    "print('Accuracy: ', accuracy)"
   ]
  },
  {
   "cell_type": "code",
   "execution_count": 40,
   "metadata": {},
   "outputs": [],
   "source": [
    "# 3. Mini Batch Gradient Descent Algorithm"
   ]
  },
  {
   "cell_type": "code",
   "execution_count": 41,
   "metadata": {},
   "outputs": [],
   "source": [
    "theta5 = np.zeros(trainingX.shape[1])"
   ]
  },
  {
   "cell_type": "code",
   "execution_count": 42,
   "metadata": {},
   "outputs": [],
   "source": [
    "costList5,theta5 = cd.mini_batch_gradient_descent_reg(trainingX,trainingY, theta1, 1000, 0.0000000001)"
   ]
  },
  {
   "cell_type": "code",
   "execution_count": 43,
   "metadata": {},
   "outputs": [
    {
     "data": {
      "text/plain": [
       "Text(0, 0.5, 'Cost')"
      ]
     },
     "execution_count": 43,
     "metadata": {},
     "output_type": "execute_result"
    },
    {
     "data": {
      "image/png": "[encoded data removed]",
      "text/plain": [
       "<Figure size 432x288 with 1 Axes>"
      ]
     },
     "metadata": {
      "needs_background": "light"
     },
     "output_type": "display_data"
    }
   ],
   "source": [
    "plt.plot(np.arange(len(costList5)), costList5, lw=2)\n",
    "plt.xlabel('Number of Epochs')\n",
    "plt.ylabel('Cost')"
   ]
  },
  {
   "cell_type": "code",
   "execution_count": 44,
   "metadata": {},
   "outputs": [],
   "source": [
    "predictedY = testingX.dot(theta5)"
   ]
  },
  {
   "cell_type": "code",
   "execution_count": 45,
   "metadata": {},
   "outputs": [
    {
     "name": "stdout",
     "output_type": "stream",
     "text": [
      "w0:  0.0027686716224252497\n",
      "w1:  12.091782081555808\n",
      "w2:  0.008964713156088808\n",
      "w3:  0.004328343394484296\n",
      "Error:  27.81170120330061\n",
      "Accuracy:  72.18829879669939\n"
     ]
    }
   ],
   "source": [
    "difference = np.abs(np.subtract(predictedY,testingY))\n",
    "yoyo = np.divide(difference, testingY)\n",
    "error = np.multiply(yoyo,100)\n",
    "print('w0: ', theta[0])\n",
    "print('w1: ', theta[1])\n",
    "print('w2: ', theta[2])\n",
    "print('w3: ', theta[3])\n",
    "print('Error: ', np.mean(error))\n",
    "accuracy = 100 - np.mean(error)\n",
    "print('Accuracy: ', accuracy)"
   ]
  }
 ],
 "metadata": {
  "kernelspec": {
   "display_name": "Python 3",
   "language": "python",
   "name": "python3"
  },
  "language_info": {
   "codemirror_mode": {
    "name": "ipython",
    "version": 3
   },
   "file_extension": ".py",
   "mimetype": "text/x-python",
   "name": "python",
   "nbconvert_exporter": "python",
   "pygments_lexer": "ipython3",
   "version": "3.7.7"
  }
 },
 "nbformat": 4,
 "nbformat_minor": 4
}

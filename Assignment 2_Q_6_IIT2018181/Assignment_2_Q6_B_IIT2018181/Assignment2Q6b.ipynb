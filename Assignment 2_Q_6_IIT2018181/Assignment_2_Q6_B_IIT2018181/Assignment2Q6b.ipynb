{
 "cells": [
  {
   "cell_type": "code",
   "execution_count": 1,
   "metadata": {},
   "outputs": [],
   "source": [
    "import numpy as np\n",
    "import pandas as pda\n",
    "from sklearn.model_selection import train_test_split as tts\n",
    "import matplotlib.pyplot as plt\n",
    "import code as cd"
   ]
  },
  {
   "cell_type": "code",
   "execution_count": 2,
   "metadata": {},
   "outputs": [],
   "source": [
    "housingData = pda.read_csv('Housing_price_data_set.csv')"
   ]
  },
  {
   "cell_type": "code",
   "execution_count": 3,
   "metadata": {},
   "outputs": [],
   "source": [
    "housingData.drop('Unnamed: 0',axis=1,inplace = True)"
   ]
  },
  {
   "cell_type": "code",
   "execution_count": 4,
   "metadata": {},
   "outputs": [],
   "source": [
    "housingDataWFS = housingData.copy()"
   ]
  },
  {
   "cell_type": "code",
   "execution_count": 5,
   "metadata": {},
   "outputs": [],
   "source": [
    "#without feature scaling\n",
    "trainingSet, testingSet = tts(housingData,test_size=0.3,random_state = 39)"
   ]
  },
  {
   "cell_type": "code",
   "execution_count": 6,
   "metadata": {},
   "outputs": [],
   "source": [
    "trainingX = trainingSet[housingData.columns[1:4]].copy()\n",
    "trainingY = trainingSet['price'].copy()\n",
    "testingX = testingSet[housingData.columns[1:4]].copy()\n",
    "testingY = testingSet['price'].copy()"
   ]
  },
  {
   "cell_type": "code",
   "execution_count": 7,
   "metadata": {},
   "outputs": [],
   "source": [
    "trainingX = trainingX.to_numpy()\n",
    "trainingY = trainingY.to_numpy()\n",
    "testingX = testingX.to_numpy()\n",
    "testingY = testingY.to_numpy()"
   ]
  },
  {
   "cell_type": "code",
   "execution_count": 8,
   "metadata": {},
   "outputs": [],
   "source": [
    "trainingX = np.concatenate([np.ones((trainingX.shape[0] ,1)), trainingX], axis=1)\n",
    "testingX = np.concatenate([np.ones((testingX.shape[0], 1)), testingX], axis=1)"
   ]
  },
  {
   "cell_type": "code",
   "execution_count": 9,
   "metadata": {},
   "outputs": [],
   "source": [
    "theta = np.zeros(trainingX.shape[1])"
   ]
  },
  {
   "cell_type": "code",
   "execution_count": 10,
   "metadata": {},
   "outputs": [],
   "source": [
    "#batch gradient descent algorithm\n",
    "history,theta = cd.batch_gradient_descent(trainingX,trainingY, theta, 1500, 0.0000000001)"
   ]
  },
  {
   "cell_type": "code",
   "execution_count": 11,
   "metadata": {},
   "outputs": [
    {
     "data": {
      "text/plain": [
       "Text(0, 0.5, 'Cost')"
      ]
     },
     "execution_count": 11,
     "metadata": {},
     "output_type": "execute_result"
    },
    {
     "data": {
      "image/png": "[encoded data removed]",
      "text/plain": [
       "<Figure size 432x288 with 1 Axes>"
      ]
     },
     "metadata": {
      "needs_background": "light"
     },
     "output_type": "display_data"
    }
   ],
   "source": [
    "plt.plot(np.arange(len(history)), history, lw=2)\n",
    "plt.xlabel('Number of Epochs')\n",
    "plt.ylabel('Cost')"
   ]
  },
  {
   "cell_type": "code",
   "execution_count": 12,
   "metadata": {},
   "outputs": [],
   "source": [
    "predictedY = testingX.dot(theta)"
   ]
  },
  {
   "cell_type": "code",
   "execution_count": 13,
   "metadata": {},
   "outputs": [
    {
     "name": "stdout",
     "output_type": "stream",
     "text": [
      "27.81186883732911\n",
      "72.18813116267089\n"
     ]
    }
   ],
   "source": [
    "difference = np.abs(np.subtract(predictedY,testingY))\n",
    "yoyo = np.divide(difference, testingY)\n",
    "error = np.multiply(yoyo,100)\n",
    "print(np.mean(error))\n",
    "accuracy = 100 - np.mean(error)\n",
    "print(accuracy)"
   ]
  },
  {
   "cell_type": "code",
   "execution_count": 14,
   "metadata": {},
   "outputs": [],
   "source": [
    "theta1 = np.zeros(trainingX.shape[1])"
   ]
  },
  {
   "cell_type": "code",
   "execution_count": 15,
   "metadata": {},
   "outputs": [],
   "source": [
    "#stochastic gradient descent algorithm\n",
    "history1,theta1 = cd.stochastic_gradient_descent(trainingX,trainingY, theta1, 150, 0.0000000001)"
   ]
  },
  {
   "cell_type": "code",
   "execution_count": 16,
   "metadata": {},
   "outputs": [
    {
     "data": {
      "text/plain": [
       "Text(0, 0.5, 'Cost')"
      ]
     },
     "execution_count": 16,
     "metadata": {},
     "output_type": "execute_result"
    },
    {
     "data": {
      "image/png": "[encoded data removed]",
      "text/plain": [
       "<Figure size 432x288 with 1 Axes>"
      ]
     },
     "metadata": {
      "needs_background": "light"
     },
     "output_type": "display_data"
    }
   ],
   "source": [
    "plt.plot(np.arange(len(history1)), history1, lw=2)\n",
    "plt.xlabel('Number of Epochs')\n",
    "plt.ylabel('Cost')"
   ]
  },
  {
   "cell_type": "code",
   "execution_count": 17,
   "metadata": {},
   "outputs": [],
   "source": [
    "predictedY = testingX.dot(theta1)"
   ]
  },
  {
   "cell_type": "code",
   "execution_count": 18,
   "metadata": {},
   "outputs": [
    {
     "name": "stdout",
     "output_type": "stream",
     "text": [
      "27.945220880866078\n",
      "72.05477911913393\n"
     ]
    }
   ],
   "source": [
    "difference = np.abs(np.subtract(predictedY,testingY))\n",
    "yoyo = np.divide(difference, testingY)\n",
    "error = np.multiply(yoyo,100)\n",
    "print(np.mean(error))\n",
    "accuracy = 100 - np.mean(error)\n",
    "print(accuracy)"
   ]
  },
  {
   "cell_type": "code",
   "execution_count": 19,
   "metadata": {},
   "outputs": [],
   "source": [
    "theta2 = np.zeros(trainingX.shape[1])"
   ]
  },
  {
   "cell_type": "code",
   "execution_count": 20,
   "metadata": {},
   "outputs": [],
   "source": [
    "#mini batch gradient descent algorithm\n",
    "history2,theta2 = cd.mini_batch_gradient_descent(trainingX,trainingY, theta2, 1500, 0.0000000001)"
   ]
  },
  {
   "cell_type": "code",
   "execution_count": 21,
   "metadata": {},
   "outputs": [
    {
     "data": {
      "text/plain": [
       "Text(0, 0.5, 'Cost')"
      ]
     },
     "execution_count": 21,
     "metadata": {},
     "output_type": "execute_result"
    },
    {
     "data": {
      "image/png": "[encoded data removed]",
      "text/plain": [
       "<Figure size 432x288 with 1 Axes>"
      ]
     },
     "metadata": {
      "needs_background": "light"
     },
     "output_type": "display_data"
    }
   ],
   "source": [
    "plt.plot(np.arange(len(history2)), history2, lw=2)\n",
    "plt.xlabel('Number of Epochs')\n",
    "plt.ylabel('Cost')"
   ]
  },
  {
   "cell_type": "code",
   "execution_count": 22,
   "metadata": {},
   "outputs": [],
   "source": [
    "predictedY = testingX.dot(theta2)"
   ]
  },
  {
   "cell_type": "code",
   "execution_count": 23,
   "metadata": {},
   "outputs": [
    {
     "name": "stdout",
     "output_type": "stream",
     "text": [
      "27.821051731494972\n",
      "72.17894826850502\n"
     ]
    }
   ],
   "source": [
    "difference = np.abs(np.subtract(predictedY,testingY))\n",
    "yoyo = np.divide(difference, testingY)\n",
    "error = np.multiply(yoyo,100)\n",
    "print(np.mean(error))\n",
    "accuracy = 100 - np.mean(error)\n",
    "print(accuracy)"
   ]
  },
  {
   "cell_type": "code",
   "execution_count": 24,
   "metadata": {},
   "outputs": [],
   "source": [
    "#WITH FEATURE SCALING"
   ]
  },
  {
   "cell_type": "code",
   "execution_count": 25,
   "metadata": {},
   "outputs": [
    {
     "name": "stdout",
     "output_type": "stream",
     "text": [
      "[1.00000000e+00 5.19344241e+03 2.96858639e+00 1.29057592e+00]\n"
     ]
    }
   ],
   "source": [
    "mu = np.mean(trainingX, axis = 0)\n",
    "print(mu)"
   ]
  },
  {
   "cell_type": "code",
   "execution_count": 26,
   "metadata": {},
   "outputs": [],
   "source": [
    "stdd =np.std(trainingX,axis = 0)"
   ]
  },
  {
   "cell_type": "code",
   "execution_count": 27,
   "metadata": {},
   "outputs": [],
   "source": [
    "trainingX[:, 1:] =abs( trainingX[:, 1:] - mu[1:] ) / stdd[1:]"
   ]
  },
  {
   "cell_type": "code",
   "execution_count": 28,
   "metadata": {},
   "outputs": [
    {
     "name": "stdout",
     "output_type": "stream",
     "text": [
      "[1.00000000e+00 5.04969512e+03 2.95731707e+00 1.27439024e+00]\n"
     ]
    }
   ],
   "source": [
    "mu = np.mean(testingX, axis = 0)\n",
    "print(mu)"
   ]
  },
  {
   "cell_type": "code",
   "execution_count": 29,
   "metadata": {},
   "outputs": [
    {
     "name": "stdout",
     "output_type": "stream",
     "text": [
      "[0.00000000e+00 2.27770082e+03 7.18659064e-01 4.97876215e-01]\n"
     ]
    }
   ],
   "source": [
    "stdd =np.std(testingX,axis = 0)\n",
    "print(stdd)"
   ]
  },
  {
   "cell_type": "code",
   "execution_count": 30,
   "metadata": {},
   "outputs": [],
   "source": [
    "testingX[:, 1:] =abs( testingX[:, 1:] - mu[1:] ) / stdd[1:]"
   ]
  },
  {
   "cell_type": "code",
   "execution_count": 31,
   "metadata": {},
   "outputs": [
    {
     "name": "stdout",
     "output_type": "stream",
     "text": [
      "67229.5731707317\n"
     ]
    }
   ],
   "source": [
    "mu = np.mean(testingY, axis = 0)\n",
    "print(mu)"
   ]
  },
  {
   "cell_type": "code",
   "execution_count": 32,
   "metadata": {},
   "outputs": [
    {
     "name": "stdout",
     "output_type": "stream",
     "text": [
      "27654.508747871645\n"
     ]
    }
   ],
   "source": [
    "stdd =np.std(testingY,axis = 0)\n",
    "print(stdd)"
   ]
  },
  {
   "cell_type": "code",
   "execution_count": 33,
   "metadata": {},
   "outputs": [],
   "source": [
    "testingY =abs(testingY - mu ) / stdd"
   ]
  },
  {
   "cell_type": "code",
   "execution_count": 34,
   "metadata": {},
   "outputs": [
    {
     "name": "stdout",
     "output_type": "stream",
     "text": [
      "68504.56020942409\n"
     ]
    }
   ],
   "source": [
    "mu = np.mean(trainingY, axis = 0)\n",
    "print(mu)"
   ]
  },
  {
   "cell_type": "code",
   "execution_count": 35,
   "metadata": {},
   "outputs": [
    {
     "name": "stdout",
     "output_type": "stream",
     "text": [
      "26238.619146946767\n"
     ]
    }
   ],
   "source": [
    "stdd =np.std(trainingY,axis = 0)\n",
    "print(stdd)"
   ]
  },
  {
   "cell_type": "code",
   "execution_count": 36,
   "metadata": {},
   "outputs": [],
   "source": [
    "trainingY =abs(trainingY - mu ) / stdd"
   ]
  },
  {
   "cell_type": "code",
   "execution_count": 37,
   "metadata": {},
   "outputs": [],
   "source": [
    "theta = np.zeros(trainingX.shape[1])"
   ]
  },
  {
   "cell_type": "code",
   "execution_count": 38,
   "metadata": {},
   "outputs": [],
   "source": [
    "history,theta = cd.batch_gradient_descent(trainingX,trainingY, theta, 1500, 0.0000000001)"
   ]
  },
  {
   "cell_type": "code",
   "execution_count": 39,
   "metadata": {},
   "outputs": [
    {
     "data": {
      "text/plain": [
       "Text(0, 0.5, 'Cost')"
      ]
     },
     "execution_count": 39,
     "metadata": {},
     "output_type": "execute_result"
    },
    {
     "data": {
      "image/png": "[encoded data removed]",
      "text/plain": [
       "<Figure size 432x288 with 1 Axes>"
      ]
     },
     "metadata": {
      "needs_background": "light"
     },
     "output_type": "display_data"
    }
   ],
   "source": [
    "plt.plot(np.arange(len(history)), history, lw=2)\n",
    "plt.xlabel('Number of Epochs')\n",
    "plt.ylabel('Cost')"
   ]
  },
  {
   "cell_type": "code",
   "execution_count": 40,
   "metadata": {},
   "outputs": [],
   "source": [
    "predictedY = testingX.dot(theta)"
   ]
  },
  {
   "cell_type": "code",
   "execution_count": 41,
   "metadata": {},
   "outputs": [
    {
     "name": "stdout",
     "output_type": "stream",
     "text": [
      "w0:  1.1677321187877227e-07\n",
      "w1:  9.978806920932797e-08\n",
      "w2:  8.012606562839202e-08\n",
      "w3:  1.1461209860131206e-07\n",
      "Error:  99.9998517065634\n",
      "Accuracy:  0.0001482934365952815\n"
     ]
    }
   ],
   "source": [
    "difference = np.abs(np.subtract(predictedY,testingY))\n",
    "yoyo = np.divide(difference, testingY)\n",
    "error = np.multiply(yoyo,100)\n",
    "print('w0: ', theta[0])\n",
    "print('w1: ', theta[1])\n",
    "print('w2: ', theta[2])\n",
    "print('w3: ', theta[3])\n",
    "print('Error: ', np.mean(error))\n",
    "accuracy = 100 - np.mean(error)\n",
    "print('Accuracy: ', accuracy)"
   ]
  },
  {
   "cell_type": "code",
   "execution_count": 42,
   "metadata": {},
   "outputs": [],
   "source": [
    "history1,theta1 = cd.stochastic_gradient_descent(trainingX,trainingY, theta1, 150, 0.0000000001)"
   ]
  },
  {
   "cell_type": "code",
   "execution_count": 43,
   "metadata": {},
   "outputs": [
    {
     "data": {
      "text/plain": [
       "Text(0, 0.5, 'Cost')"
      ]
     },
     "execution_count": 43,
     "metadata": {},
     "output_type": "execute_result"
    },
    {
     "data": {
      "image/png": "[encoded data removed]",
      "text/plain": [
       "<Figure size 432x288 with 1 Axes>"
      ]
     },
     "metadata": {
      "needs_background": "light"
     },
     "output_type": "display_data"
    }
   ],
   "source": [
    "plt.plot(np.arange(len(history1)), history1, lw=2)\n",
    "plt.xlabel('Number of Epochs')\n",
    "plt.ylabel('Cost')"
   ]
  },
  {
   "cell_type": "code",
   "execution_count": 44,
   "metadata": {},
   "outputs": [],
   "source": [
    "predictedY = testingX.dot(theta1)"
   ]
  },
  {
   "cell_type": "code",
   "execution_count": 45,
   "metadata": {},
   "outputs": [
    {
     "name": "stdout",
     "output_type": "stream",
     "text": [
      "w0:  1.1677321187877227e-07\n",
      "w1:  9.978806920932797e-08\n",
      "w2:  8.012606562839202e-08\n",
      "w3:  1.1461209860131206e-07\n",
      "Error:  3287.2556696543015\n",
      "Accuracy:  -3187.2556696543015\n"
     ]
    }
   ],
   "source": [
    "difference = np.abs(np.subtract(predictedY,testingY))\n",
    "yoyo = np.divide(difference, testingY)\n",
    "error = np.multiply(yoyo,100)\n",
    "print('w0: ', theta[0])\n",
    "print('w1: ', theta[1])\n",
    "print('w2: ', theta[2])\n",
    "print('w3: ', theta[3])\n",
    "print('Error: ', np.mean(error))\n",
    "accuracy = 100 - np.mean(error)\n",
    "print('Accuracy: ', accuracy)"
   ]
  },
  {
   "cell_type": "code",
   "execution_count": 46,
   "metadata": {},
   "outputs": [],
   "source": [
    "history2,theta2 = cd.mini_batch_gradient_descent(trainingX,trainingY, theta2, 1500, 0.0000000001)"
   ]
  },
  {
   "cell_type": "code",
   "execution_count": 47,
   "metadata": {},
   "outputs": [
    {
     "data": {
      "text/plain": [
       "Text(0, 0.5, 'Cost')"
      ]
     },
     "execution_count": 47,
     "metadata": {},
     "output_type": "execute_result"
    },
    {
     "data": {
      "image/png": "[encoded data removed]",
      "text/plain": [
       "<Figure size 432x288 with 1 Axes>"
      ]
     },
     "metadata": {
      "needs_background": "light"
     },
     "output_type": "display_data"
    }
   ],
   "source": [
    "plt.plot(np.arange(len(history2)), history2, lw=2)\n",
    "plt.xlabel('Number of Epochs')\n",
    "plt.ylabel('Cost')"
   ]
  },
  {
   "cell_type": "code",
   "execution_count": 48,
   "metadata": {},
   "outputs": [],
   "source": [
    "predictedY = testingX.dot(theta2)"
   ]
  },
  {
   "cell_type": "code",
   "execution_count": 49,
   "metadata": {},
   "outputs": [
    {
     "name": "stdout",
     "output_type": "stream",
     "text": [
      "w0:  1.1677321187877227e-07\n",
      "w1:  9.978806920932797e-08\n",
      "w2:  8.012606562839202e-08\n",
      "w3:  1.1461209860131206e-07\n",
      "Error:  3073.063358628384\n",
      "Accuracy:  -2973.063358628384\n"
     ]
    }
   ],
   "source": [
    "difference = np.abs(np.subtract(predictedY,testingY))\n",
    "yoyo = np.divide(difference, testingY)\n",
    "error = np.multiply(yoyo,100)\n",
    "print('w0: ', theta[0])\n",
    "print('w1: ', theta[1])\n",
    "print('w2: ', theta[2])\n",
    "print('w3: ', theta[3])\n",
    "print('Error: ', np.mean(error))\n",
    "accuracy = 100 - np.mean(error)\n",
    "print('Accuracy: ', accuracy)"
   ]
  }
 ],
 "metadata": {
  "kernelspec": {
   "display_name": "Python 3",
   "language": "python",
   "name": "python3"
  },
  "language_info": {
   "codemirror_mode": {
    "name": "ipython",
    "version": 3
   },
   "file_extension": ".py",
   "mimetype": "text/x-python",
   "name": "python",
   "nbconvert_exporter": "python",
   "pygments_lexer": "ipython3",
   "version": "3.7.7"
  }
 },
 "nbformat": 4,
 "nbformat_minor": 4
}

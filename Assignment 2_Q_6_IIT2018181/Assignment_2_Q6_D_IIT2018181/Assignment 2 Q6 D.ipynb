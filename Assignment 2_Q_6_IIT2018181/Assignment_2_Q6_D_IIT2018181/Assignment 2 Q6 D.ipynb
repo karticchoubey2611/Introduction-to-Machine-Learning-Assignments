{
 "cells": [
  {
   "cell_type": "code",
   "execution_count": null,
   "metadata": {},
   "outputs": [],
   "source": [
    "#importing the files\n",
    "import numpy as np\n",
    "import pandas as pda\n",
    "from sklearn.model_selection import train_test_split as tts\n",
    "import matplotlib.pyplot as plt\n",
    "import code as cd"
   ]
  },
  {
   "cell_type": "code",
   "execution_count": null,
   "metadata": {},
   "outputs": [],
   "source": [
    "#reading the csv file with the help of pandas\n",
    "housingData = pda.read_csv('Housing_price_data_set.csv')"
   ]
  },
  {
   "cell_type": "code",
   "execution_count": null,
   "metadata": {},
   "outputs": [],
   "source": [
    "#dropping the Unnamed: 0 axis\n",
    "housingData.drop('Unnamed: 0',axis=1,inplace = True)"
   ]
  },
  {
   "cell_type": "code",
   "execution_count": null,
   "metadata": {},
   "outputs": [],
   "source": [
    "#dividing the data into training set and testing set\n",
    "trainingSet, testingSet = tts(housingData,test_size=0.3,random_state = 39)"
   ]
  },
  {
   "cell_type": "code",
   "execution_count": null,
   "metadata": {},
   "outputs": [],
   "source": [
    "#taking the lotsize, no of bedrooms and number of bathrooms as X and price as Y\n",
    "trainingX = trainingSet[housingData.columns[1:4]].copy()\n",
    "trainingY = trainingSet['price'].copy()\n",
    "testingX = testingSet[housingData.columns[1:4]].copy()\n",
    "testingY = testingSet['price'].copy()"
   ]
  },
  {
   "cell_type": "code",
   "execution_count": null,
   "metadata": {},
   "outputs": [],
   "source": [
    "#converting them to numpy\n",
    "trainingX = trainingX.to_numpy()\n",
    "trainingY = trainingY.to_numpy()\n",
    "testingX = testingX.to_numpy()\n",
    "testingY = testingY.to_numpy()"
   ]
  },
  {
   "cell_type": "code",
   "execution_count": null,
   "metadata": {},
   "outputs": [],
   "source": [
    "#tau = 0.01\n",
    "predList = []\n",
    "for x in trainingX:\n",
    "    predList.append(cd.LWR(x, trainingX, trainingY, 0.01))"
   ]
  },
  {
   "cell_type": "code",
   "execution_count": null,
   "metadata": {},
   "outputs": [],
   "source": [
    "predictedY = []\n",
    "for i in range(len(predList)):\n",
    "    predictedY.append(predList[i][0])"
   ]
  },
  {
   "cell_type": "code",
   "execution_count": null,
   "metadata": {},
   "outputs": [],
   "source": [
    "w0 = []\n",
    "for i in range(len(predList)):\n",
    "    w0.append(predList[i][1][0])"
   ]
  },
  {
   "cell_type": "code",
   "execution_count": null,
   "metadata": {},
   "outputs": [],
   "source": [
    "w1 = []\n",
    "for i in range(len(predList)):\n",
    "    w1.append(predList[i][1][1])"
   ]
  },
  {
   "cell_type": "code",
   "execution_count": null,
   "metadata": {},
   "outputs": [],
   "source": [
    "w2 = []\n",
    "for i in range(len(predList)):\n",
    "    w2.append(predList[i][1][2])"
   ]
  },
  {
   "cell_type": "code",
   "execution_count": null,
   "metadata": {},
   "outputs": [],
   "source": [
    "w3 = []\n",
    "for i in range(len(predList)):\n",
    "    w3.append(predList[i][1][3])"
   ]
  },
  {
   "cell_type": "code",
   "execution_count": null,
   "metadata": {},
   "outputs": [],
   "source": [
    "theta0 = np.mean(w0)\n",
    "theta1 = np.mean(w1)\n",
    "theta2 = np.mean(w2)\n",
    "theta3 = np.mean(w3)\n",
    "print('w0: ', theta0)\n",
    "print('w1: ', theta1)\n",
    "print('w2: ', theta2)\n",
    "print('w3: ', theta3)"
   ]
  },
  {
   "cell_type": "code",
   "execution_count": null,
   "metadata": {},
   "outputs": [],
   "source": [
    "difference = np.abs(np.subtract(predictedY,trainingY))\n",
    "yoyo = np.divide(difference, trainingY)\n",
    "error = np.multiply(yoyo,100)\n",
    "accuracy = 100 - np.mean(error)\n",
    "print('Error: ', np.mean(error))\n",
    "print('Accuracy: ', accuracy)"
   ]
  },
  {
   "cell_type": "code",
   "execution_count": null,
   "metadata": {},
   "outputs": [],
   "source": [
    "#tau = 0.5\n",
    "predList = []\n",
    "for x in trainingX:\n",
    "    predList.append(cd.LWR(x, trainingX, trainingY, 0.5))"
   ]
  },
  {
   "cell_type": "code",
   "execution_count": null,
   "metadata": {},
   "outputs": [],
   "source": [
    "predictedY = []\n",
    "for i in range(len(predList)):\n",
    "    predictedY.append(predList[i][0])"
   ]
  },
  {
   "cell_type": "code",
   "execution_count": null,
   "metadata": {},
   "outputs": [],
   "source": [
    "w0 = []\n",
    "for i in range(len(predList)):\n",
    "    w0.append(predList[i][1][0])"
   ]
  },
  {
   "cell_type": "code",
   "execution_count": null,
   "metadata": {},
   "outputs": [],
   "source": [
    "w1 = []\n",
    "for i in range(len(predList)):\n",
    "    w1.append(predList[i][1][1])"
   ]
  },
  {
   "cell_type": "code",
   "execution_count": null,
   "metadata": {},
   "outputs": [],
   "source": [
    "w2 = []\n",
    "for i in range(len(predList)):\n",
    "    w2.append(predList[i][1][2])"
   ]
  },
  {
   "cell_type": "code",
   "execution_count": null,
   "metadata": {},
   "outputs": [],
   "source": [
    "w3 = []\n",
    "for i in range(len(predList)):\n",
    "    w3.append(predList[i][1][3])"
   ]
  },
  {
   "cell_type": "code",
   "execution_count": null,
   "metadata": {},
   "outputs": [],
   "source": [
    "theta0 = np.mean(w0)\n",
    "theta1 = np.mean(w1)\n",
    "theta2 = np.mean(w2)\n",
    "theta3 = np.mean(w3)\n",
    "print('w0: ', theta0)\n",
    "print('w1: ', theta1)\n",
    "print('w2: ', theta2)\n",
    "print('w3: ', theta3)"
   ]
  },
  {
   "cell_type": "code",
   "execution_count": null,
   "metadata": {},
   "outputs": [],
   "source": [
    "difference = np.abs(np.subtract(predictedY,trainingY))\n",
    "yoyo = np.divide(difference, trainingY)\n",
    "error = np.multiply(yoyo,100)\n",
    "accuracy = 100 - np.mean(error)\n",
    "print('Error: ', np.mean(error))\n",
    "print('Accuracy: ', accuracy)"
   ]
  },
  {
   "cell_type": "code",
   "execution_count": null,
   "metadata": {},
   "outputs": [],
   "source": [
    "#tau = 1.0\n",
    "predList = []\n",
    "for x in trainingX:\n",
    "    predList.append(cd.LWR(x, trainingX, trainingY, 1.))"
   ]
  },
  {
   "cell_type": "code",
   "execution_count": null,
   "metadata": {},
   "outputs": [],
   "source": [
    "predictedY = []\n",
    "for i in range(len(predList)):\n",
    "    predictedY.append(predList[i][0])"
   ]
  },
  {
   "cell_type": "code",
   "execution_count": null,
   "metadata": {},
   "outputs": [],
   "source": [
    "w0 = []\n",
    "for i in range(len(predList)):\n",
    "    w0.append(predList[i][1][0])"
   ]
  },
  {
   "cell_type": "code",
   "execution_count": null,
   "metadata": {},
   "outputs": [],
   "source": [
    "w1 = []\n",
    "for i in range(len(predList)):\n",
    "    w1.append(predList[i][1][1])"
   ]
  },
  {
   "cell_type": "code",
   "execution_count": null,
   "metadata": {},
   "outputs": [],
   "source": [
    "w2 = []\n",
    "for i in range(len(predList)):\n",
    "    w2.append(predList[i][1][2])"
   ]
  },
  {
   "cell_type": "code",
   "execution_count": null,
   "metadata": {},
   "outputs": [],
   "source": [
    "w3 = []\n",
    "for i in range(len(predList)):\n",
    "    w3.append(predList[i][1][3])"
   ]
  },
  {
   "cell_type": "code",
   "execution_count": null,
   "metadata": {},
   "outputs": [],
   "source": [
    "theta0 = np.mean(w0)\n",
    "theta1 = np.mean(w1)\n",
    "theta2 = np.mean(w2)\n",
    "theta3 = np.mean(w3)\n",
    "print('w0: ', theta0)\n",
    "print('w1: ', theta1)\n",
    "print('w2: ', theta2)\n",
    "print('w3: ', theta3)"
   ]
  },
  {
   "cell_type": "code",
   "execution_count": null,
   "metadata": {},
   "outputs": [],
   "source": [
    "difference = np.abs(np.subtract(predictedY,trainingY))\n",
    "yoyo = np.divide(difference, trainingY)\n",
    "error = np.multiply(yoyo,100)\n",
    "accuracy = 100 - np.mean(error)\n",
    "print('Error: ', np.mean(error))\n",
    "print('Accuracy: ', accuracy)"
   ]
  },
  {
   "cell_type": "code",
   "execution_count": null,
   "metadata": {},
   "outputs": [],
   "source": [
    "#tau = 1.0\n",
    "predList = []\n",
    "for x in trainingX:\n",
    "    predList.append(cd.LWR(x, trainingX, trainingY, 5.))"
   ]
  },
  {
   "cell_type": "code",
   "execution_count": null,
   "metadata": {},
   "outputs": [],
   "source": [
    "predictedY = []\n",
    "for i in range(len(predList)):\n",
    "    predictedY.append(predList[i][0])"
   ]
  },
  {
   "cell_type": "code",
   "execution_count": null,
   "metadata": {},
   "outputs": [],
   "source": [
    "w0 = []\n",
    "for i in range(len(predList)):\n",
    "    w0.append(predList[i][1][0])"
   ]
  },
  {
   "cell_type": "code",
   "execution_count": null,
   "metadata": {},
   "outputs": [],
   "source": [
    "w1 = []\n",
    "for i in range(len(predList)):\n",
    "    w1.append(predList[i][1][1])"
   ]
  },
  {
   "cell_type": "code",
   "execution_count": null,
   "metadata": {},
   "outputs": [],
   "source": [
    "w2 = []\n",
    "for i in range(len(predList)):\n",
    "    w2.append(predList[i][1][2])"
   ]
  },
  {
   "cell_type": "code",
   "execution_count": null,
   "metadata": {},
   "outputs": [],
   "source": [
    "w3 = []\n",
    "for i in range(len(predList)):\n",
    "    w3.append(predList[i][1][3])"
   ]
  },
  {
   "cell_type": "code",
   "execution_count": null,
   "metadata": {},
   "outputs": [],
   "source": [
    "theta0 = np.mean(w0)\n",
    "theta1 = np.mean(w1)\n",
    "theta2 = np.mean(w2)\n",
    "theta3 = np.mean(w3)\n",
    "print('w0: ', theta0)\n",
    "print('w1: ', theta1)\n",
    "print('w2: ', theta2)\n",
    "print('w3: ', theta3)"
   ]
  },
  {
   "cell_type": "code",
   "execution_count": null,
   "metadata": {},
   "outputs": [],
   "source": [
    "difference = np.abs(np.subtract(predictedY,trainingY))\n",
    "yoyo = np.divide(difference, trainingY)\n",
    "error = np.multiply(yoyo,100)\n",
    "accuracy = 100 - np.mean(error)\n",
    "print('Error: ', np.mean(error))\n",
    "print('Accuracy: ', accuracy)"
   ]
  },
  {
   "cell_type": "code",
   "execution_count": null,
   "metadata": {},
   "outputs": [],
   "source": [
    "# RESULT:\n",
    "# By decreasing the value of tau, error is increasing . That means \n",
    "# that if range of values is less, accuracy will be more."
   ]
  },
  {
   "cell_type": "code",
   "execution_count": null,
   "metadata": {},
   "outputs": [],
   "source": [
    "# LWR gives better results as compared to Gradient Descent Algorithm , Gradient Descent Algorithm with feature scaling & Gradient Descent Algorithm with regularization"
   ]
  }
 ],
 "metadata": {
  "kernelspec": {
   "display_name": "Python 3",
   "language": "python",
   "name": "python3"
  },
  "language_info": {
   "codemirror_mode": {
    "name": "ipython",
    "version": 3
   },
   "file_extension": ".py",
   "mimetype": "text/x-python",
   "name": "python",
   "nbconvert_exporter": "python",
   "pygments_lexer": "ipython3",
   "version": "3.7.7"
  }
 },
 "nbformat": 4,
 "nbformat_minor": 4
}

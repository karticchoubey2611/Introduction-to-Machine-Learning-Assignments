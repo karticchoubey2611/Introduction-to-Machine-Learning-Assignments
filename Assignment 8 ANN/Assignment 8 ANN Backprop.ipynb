{
 "cells": [
  {
   "cell_type": "code",
   "execution_count": 1,
   "metadata": {},
   "outputs": [],
   "source": [
    "#importing libraries\n",
    "import numpy as np\n",
    "import warnings\n",
    "import matplotlib.pyplot as plt"
   ]
  },
  {
   "cell_type": "code",
   "execution_count": 2,
   "metadata": {},
   "outputs": [],
   "source": [
    "#For removing warnings\n",
    "warnings.filterwarnings('ignore')"
   ]
  },
  {
   "cell_type": "code",
   "execution_count": 3,
   "metadata": {},
   "outputs": [],
   "source": [
    "#Sigmoid Function\n",
    "def sigmoid(z):\n",
    "    return 1/(1 + np.exp(-z))"
   ]
  },
  {
   "cell_type": "code",
   "execution_count": 4,
   "metadata": {},
   "outputs": [],
   "source": [
    "#Defining Forward Pass and Back Propogation Algorithm\n",
    "def forwardPass(trainingX,w1,w2):\n",
    "    temp1 = np.matmul(trainingX,w1)\n",
    "    z1 = sigmoid(temp1)\n",
    "    \n",
    "    length = len(z1)\n",
    "    p = np.ones((length,1))\n",
    "    z1 = np.concatenate((p,z1),axis = 1)\n",
    "    \n",
    "    temp2 = np.matmul(z1,w2)\n",
    "    z2 = sigmoid(temp2)\n",
    "    \n",
    "    return temp1,z1,temp2,z2\n",
    "\n",
    "def backProp(temp2,z0,z1,z2,Y):\n",
    "    df2 = z2 - Y\n",
    "    Delta2 = np.matmul(np.transpose(z1),df2)\n",
    "    df1 = np.dot(df2,np.transpose(w2[1:,:]))*sigmoid(temp1)*(1-sigmoid(temp1))\n",
    "    Delta1 = np.matmul(np.transpose(z0),df1)\n",
    "    \n",
    "    return df2,Delta1,Delta2\n",
    "\n",
    "def weightUpdate(Delta1,Delta2,alpha,m,w1,w2):\n",
    "    delw1 = alpha*(1/m)*Delta1\n",
    "    w1 = w1 - delw1\n",
    "    delw2 = alpha*(1/m)*Delta2 \n",
    "    w2 = w2 - delw2\n",
    "    return w1,w2"
   ]
  },
  {
   "cell_type": "code",
   "execution_count": 5,
   "metadata": {},
   "outputs": [],
   "source": [
    "#Function to predict result\n",
    "def predictionFunc(testingX,w1,w2):\n",
    "    temp1,z1,temp2,z2 = forwardPass(testingX,w1,w2)\n",
    "    return z2    "
   ]
  },
  {
   "cell_type": "code",
   "execution_count": 6,
   "metadata": {},
   "outputs": [],
   "source": [
    "# Training DATA\n",
    "trainingX = np.array([[1,0,0],[1,0,1],[1,1,0],[1,1,1]])\n",
    "trainingY = np.array([[1],[0],[0],[1]])"
   ]
  },
  {
   "cell_type": "code",
   "execution_count": 7,
   "metadata": {},
   "outputs": [
    {
     "data": {
      "image/png": "[encoded data removed]",
      "text/plain": [
       "<Figure size 432x432 with 1 Axes>"
      ]
     },
     "metadata": {
      "needs_background": "light"
     },
     "output_type": "display_data"
    }
   ],
   "source": [
    "# XNOR by graph plotting\n",
    "area = 200\n",
    "fig = plt.figure(figsize=(6,6))\n",
    "plt.title('XNOR GATE',fontsize = 30)\n",
    "temp = fig.add_subplot(111)\n",
    "\n",
    "temp.scatter(0,0, s = area , c='g', label = \"Class 1\")\n",
    "temp.scatter(0,1, s = area , c='r', label = \"Class 0\")\n",
    "temp.scatter(1,0, s = area , c='r', label = \"Class 0\")\n",
    "temp.scatter(1,1, s = area , c='g', label = \"Class 1\")\n",
    "plt.xlabel('Data1',fontsize = 20)\n",
    "plt.ylabel('Data2',fontsize = 20)\n",
    "plt.grid()\n",
    "plt.show()"
   ]
  },
  {
   "cell_type": "code",
   "execution_count": 8,
   "metadata": {},
   "outputs": [],
   "source": [
    "# PART 1: TRAINING"
   ]
  },
  {
   "cell_type": "code",
   "execution_count": 9,
   "metadata": {},
   "outputs": [],
   "source": [
    "w1 = np.random.randn(3,5)\n",
    "w2 = np.random.randn(6,1)\n",
    "alpha = 0.05\n",
    "errorList = []\n",
    "epochs = 10000"
   ]
  },
  {
   "cell_type": "code",
   "execution_count": 10,
   "metadata": {},
   "outputs": [],
   "source": [
    "m = len(trainingX)\n",
    "\n",
    "for i in range(epochs):\n",
    "    temp1,z1,temp2,z2 = forwardPass(trainingX,w1,w2)\n",
    "    df2,Delta1,Delta2 = backProp(temp2,trainingX,z1,z2,trainingY)\n",
    "    w1,w2 = weightUpdate(Delta1,Delta2,alpha,m,w1,w2)\n",
    "    err = np.mean(np.abs(df2))\n",
    "    errorList.append(err)    "
   ]
  },
  {
   "cell_type": "code",
   "execution_count": 11,
   "metadata": {},
   "outputs": [
    {
     "data": {
      "image/png": "[encoded data removed]",
      "text/plain": [
       "<Figure size 432x288 with 1 Axes>"
      ]
     },
     "metadata": {
      "needs_background": "light"
     },
     "output_type": "display_data"
    }
   ],
   "source": [
    "z3 = predictionFunc(trainingX,w1,w2)\n",
    "plt.plot(errorList)\n",
    "plt.xlabel('Epochs',fontsize = 20)\n",
    "plt.ylabel('Error',fontsize = 20)\n",
    "plt.show()"
   ]
  },
  {
   "cell_type": "code",
   "execution_count": 12,
   "metadata": {},
   "outputs": [],
   "source": [
    "# PART 2: TESTING"
   ]
  },
  {
   "cell_type": "code",
   "execution_count": 13,
   "metadata": {},
   "outputs": [],
   "source": [
    "testingX = np.array([[1,0,0.03],[1,0,0.99],[1,1,0],[1,1,0.2],[1,0.4,0.6],[1,0.9,0.85],[1,1,1],[1,0,0],[1,0.5,0.5]])\n",
    "testingY = np.array([[1.],[0.],[0.],[0.],[1.],[1.],[1.],[1.],[1.]])   "
   ]
  },
  {
   "cell_type": "code",
   "execution_count": 14,
   "metadata": {},
   "outputs": [
    {
     "name": "stdout",
     "output_type": "stream",
     "text": [
      "Predicted Values:\n",
      "[[1.]\n",
      " [0.]\n",
      " [0.]\n",
      " [0.]\n",
      " [1.]\n",
      " [1.]\n",
      " [1.]\n",
      " [1.]\n",
      " [1.]]\n",
      "Actual Values:\n",
      "[[1.]\n",
      " [0.]\n",
      " [0.]\n",
      " [0.]\n",
      " [1.]\n",
      " [1.]\n",
      " [1.]\n",
      " [1.]\n",
      " [1.]]\n"
     ]
    }
   ],
   "source": [
    "predictedY = predictionFunc(testingX,w1,w2)\n",
    "print(\"Predicted Values:\")\n",
    "print(np.round(predictedY))\n",
    "print(\"Actual Values:\")\n",
    "print(testingY)"
   ]
  },
  {
   "cell_type": "code",
   "execution_count": 15,
   "metadata": {},
   "outputs": [
    {
     "name": "stdout",
     "output_type": "stream",
     "text": [
      "\n",
      "x1 -  0.0 ,x2 -  0.03\n",
      "Predicted -  [1.] ,Actual -  [1.]\n",
      "\n",
      "x1 -  0.0 ,x2 -  0.99\n",
      "Predicted -  [0.] ,Actual -  [0.]\n",
      "\n",
      "x1 -  1.0 ,x2 -  0.0\n",
      "Predicted -  [0.] ,Actual -  [0.]\n",
      "\n",
      "x1 -  1.0 ,x2 -  0.2\n",
      "Predicted -  [0.] ,Actual -  [0.]\n",
      "\n",
      "x1 -  0.4 ,x2 -  0.6\n",
      "Predicted -  [1.] ,Actual -  [1.]\n",
      "\n",
      "x1 -  0.9 ,x2 -  0.85\n",
      "Predicted -  [1.] ,Actual -  [1.]\n",
      "\n",
      "x1 -  1.0 ,x2 -  1.0\n",
      "Predicted -  [1.] ,Actual -  [1.]\n",
      "\n",
      "x1 -  0.0 ,x2 -  0.0\n",
      "Predicted -  [1.] ,Actual -  [1.]\n",
      "\n",
      "x1 -  0.5 ,x2 -  0.5\n",
      "Predicted -  [1.] ,Actual -  [1.]\n",
      "\n",
      "Accuracy -  1.0\n"
     ]
    }
   ],
   "source": [
    "total = len(predictedY)\n",
    "correct = 0\n",
    "\n",
    "for i in range(len(predictedY)):\n",
    "\n",
    "    print(\"\\nx1 - \",testingX[i][1],\",x2 - \",testingX[i][2])\n",
    "    print(\"Predicted - \",np.round(predictedY[i]),\",Actual - \",testingY[i])\n",
    "\n",
    "    if ( np.round(predictedY[i]) == testingY[i] ):\n",
    "        correct = correct + 1\n",
    "\n",
    "print ( \"\\nAccuracy - \", correct/total)"
   ]
  }
 ],
 "metadata": {
  "kernelspec": {
   "display_name": "Python 3",
   "language": "python",
   "name": "python3"
  },
  "language_info": {
   "codemirror_mode": {
    "name": "ipython",
    "version": 3
   },
   "file_extension": ".py",
   "mimetype": "text/x-python",
   "name": "python",
   "nbconvert_exporter": "python",
   "pygments_lexer": "ipython3",
   "version": "3.7.7"
  }
 },
 "nbformat": 4,
 "nbformat_minor": 4
}

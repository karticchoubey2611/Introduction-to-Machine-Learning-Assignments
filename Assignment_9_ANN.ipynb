{
  "nbformat": 4,
  "nbformat_minor": 0,
  "metadata": {
    "colab": {
      "name": "Assignment 9 ANN.ipynb",
      "provenance": [],
      "collapsed_sections": []
    },
    "kernelspec": {
      "name": "python3",
      "display_name": "Python 3"
    }
  },
  "cells": [
    {
      "cell_type": "markdown",
      "metadata": {
        "id": "GHHV-Sr49OL9"
      },
      "source": [
        "**IMPORTING IMPORTANT PYTHON LIBRARIES**"
      ]
    },
    {
      "cell_type": "code",
      "metadata": {
        "id": "z4Kd0ctt9b3p"
      },
      "source": [
        "import numpy as np"
      ],
      "execution_count": 1,
      "outputs": []
    },
    {
      "cell_type": "markdown",
      "metadata": {
        "id": "x7B5Ne018xPS"
      },
      "source": [
        "**SET A**"
      ]
    },
    {
      "cell_type": "code",
      "metadata": {
        "id": "YKB76cf9oPjb"
      },
      "source": [
        "X1 = np.transpose(np.array([1,1,1,1,1,1]))\n",
        "X1 = X1.reshape(6,1)\n",
        "X2 = np.transpose(np.array([-1,-1,-1,-1,-1,-1]))\n",
        "X2 = X2.reshape(6,1)\n",
        "X3 = np.transpose(np.array([1,-1,-1,1,1,1]))\n",
        "X3 = X3.reshape(6,1)\n",
        "X4 = np.transpose(np.array([1,1,-1,-1,-1,-1]))\n",
        "X4 = X4.reshape(6,1)"
      ],
      "execution_count": 2,
      "outputs": []
    },
    {
      "cell_type": "markdown",
      "metadata": {
        "id": "AWpXPoak85U-"
      },
      "source": [
        "**SET B**"
      ]
    },
    {
      "cell_type": "code",
      "metadata": {
        "id": "6Ah1Som3pS5i"
      },
      "source": [
        "Y1 = np.transpose(np.array([1,1,1]))\n",
        "Y1 = Y1.reshape(3,1)\n",
        "Y2 = np.transpose(np.array([-1,-1,-1]))\n",
        "Y2 = Y2.reshape(3,1)\n",
        "Y3 = np.transpose(np.array([-1,1,1]))\n",
        "Y3 = Y3.reshape(3,1)\n",
        "Y4 = np.transpose(np.array([1,-1,1]))\n",
        "Y4 = Y4.reshape(3,1)"
      ],
      "execution_count": 3,
      "outputs": []
    },
    {
      "cell_type": "markdown",
      "metadata": {
        "id": "_MlV8JQX892O"
      },
      "source": [
        "**CALCULATION OF W MATRIX**"
      ]
    },
    {
      "cell_type": "code",
      "metadata": {
        "id": "u49s1CEhqRWh",
        "outputId": "f2a4cee8-90fe-408a-e905-319e3046cfe9",
        "colab": {
          "base_uri": "https://localhost:8080/"
        }
      },
      "source": [
        "inputSet = np.concatenate((X1,X2,X3,X4),axis = 1)\n",
        "targetSet = np.concatenate((np.transpose(Y1),np.transpose(Y2),np.transpose(Y3),np.transpose(Y4)),axis = 0)\n",
        "WMat = np.dot(inputSet,targetSet)\n",
        "print(\"\\n W Matrix comes out to be:\")\n",
        "print(WMat)"
      ],
      "execution_count": 4,
      "outputs": [
        {
          "output_type": "stream",
          "text": [
            "\n",
            " W Matrix comes out to be:\n",
            "[[2 2 4]\n",
            " [4 0 2]\n",
            " [2 2 0]\n",
            " [0 4 2]\n",
            " [0 4 2]\n",
            " [0 4 2]]\n"
          ],
          "name": "stdout"
        }
      ]
    },
    {
      "cell_type": "markdown",
      "metadata": {
        "id": "2qjQhvXI8jHN"
      },
      "source": [
        "**TESTING FOR SET A**"
      ]
    },
    {
      "cell_type": "code",
      "metadata": {
        "id": "vDBLO-wDrqrn"
      },
      "source": [
        "def setATesting(X,W):\n",
        "  Y = np.dot(np.transpose(W),X)\n",
        "  Y[Y>=0] = 1\n",
        "  Y[Y<0] = -1\n",
        "  return np.array(Y)"
      ],
      "execution_count": 5,
      "outputs": []
    },
    {
      "cell_type": "code",
      "metadata": {
        "id": "WTT8XBkWuzk4"
      },
      "source": [
        "Y1test = setATesting(X1,WMat)\n",
        "Y2test = setATesting(X2,WMat)\n",
        "Y3test = setATesting(X3,WMat)\n",
        "Y4test = setATesting(X4,WMat)"
      ],
      "execution_count": 6,
      "outputs": []
    },
    {
      "cell_type": "code",
      "metadata": {
        "id": "7NIodrgdvJJC",
        "outputId": "0a5e8935-3e75-4176-a239-1aeacc18e37f",
        "colab": {
          "base_uri": "https://localhost:8080/"
        }
      },
      "source": [
        "if Y1test.all() == Y1.all():\n",
        "  print(\"Y1test: \")\n",
        "  print(Y1test)\n",
        "  print(\"-------------------------------\")\n",
        "  print(\"Y1: \")\n",
        "  print(Y1)\n",
        "  print(\"Testing successful for input 1 of set A\")"
      ],
      "execution_count": 7,
      "outputs": [
        {
          "output_type": "stream",
          "text": [
            "Y1test: \n",
            "[[1]\n",
            " [1]\n",
            " [1]]\n",
            "-------------------------------\n",
            "Y1: \n",
            "[[1]\n",
            " [1]\n",
            " [1]]\n",
            "Testing successful for input 1 of set A\n"
          ],
          "name": "stdout"
        }
      ]
    },
    {
      "cell_type": "code",
      "metadata": {
        "id": "VUOVuqEUwN_s",
        "outputId": "c81fed7d-1e0b-4e1c-f0ee-8a7dd21dc269",
        "colab": {
          "base_uri": "https://localhost:8080/"
        }
      },
      "source": [
        "if Y2test.all() == Y2.all():\n",
        "  print(\"Y2test: \")\n",
        "  print(Y2test)\n",
        "  print(\"-------------------------------\")\n",
        "  print(\"Y2: \")\n",
        "  print(Y2)\n",
        "  print(\"Testing successful for input 2 of set A\")"
      ],
      "execution_count": 8,
      "outputs": [
        {
          "output_type": "stream",
          "text": [
            "Y2test: \n",
            "[[-1]\n",
            " [-1]\n",
            " [-1]]\n",
            "-------------------------------\n",
            "Y2: \n",
            "[[-1]\n",
            " [-1]\n",
            " [-1]]\n",
            "Testing successful for input 2 of set A\n"
          ],
          "name": "stdout"
        }
      ]
    },
    {
      "cell_type": "code",
      "metadata": {
        "id": "Qeq6ZiMPwOOM",
        "outputId": "5cc82d68-6053-4ecc-e6f2-f40f48fdd429",
        "colab": {
          "base_uri": "https://localhost:8080/"
        }
      },
      "source": [
        "if Y3test.all() == Y3.all():\n",
        "  print(\"Y3test: \")\n",
        "  print(Y3test)\n",
        "  print(\"-------------------------------\")\n",
        "  print(\"Y3: \")\n",
        "  print(Y3)\n",
        "  print(\"Testing successful for input 3 of set A\")"
      ],
      "execution_count": 9,
      "outputs": [
        {
          "output_type": "stream",
          "text": [
            "Y3test: \n",
            "[[-1]\n",
            " [ 1]\n",
            " [ 1]]\n",
            "-------------------------------\n",
            "Y3: \n",
            "[[-1]\n",
            " [ 1]\n",
            " [ 1]]\n",
            "Testing successful for input 3 of set A\n"
          ],
          "name": "stdout"
        }
      ]
    },
    {
      "cell_type": "code",
      "metadata": {
        "id": "xaPdx0HSwOeX",
        "outputId": "934166ee-4567-400f-e034-03242de65f03",
        "colab": {
          "base_uri": "https://localhost:8080/"
        }
      },
      "source": [
        "if Y4test.all() == Y4.all():\n",
        "  print(\"Y4test: \")\n",
        "  print(Y4test)\n",
        "  print(\"-------------------------------\")\n",
        "  print(\"Y4: \")\n",
        "  print(Y4)\n",
        "  print(\"Testing successful for input 4 of set A\")"
      ],
      "execution_count": 10,
      "outputs": [
        {
          "output_type": "stream",
          "text": [
            "Y4test: \n",
            "[[ 1]\n",
            " [-1]\n",
            " [ 1]]\n",
            "-------------------------------\n",
            "Y4: \n",
            "[[ 1]\n",
            " [-1]\n",
            " [ 1]]\n",
            "Testing successful for input 4 of set A\n"
          ],
          "name": "stdout"
        }
      ]
    },
    {
      "cell_type": "markdown",
      "metadata": {
        "id": "N49hAbUC8ZV3"
      },
      "source": [
        "**TESTING FOR SET B**"
      ]
    },
    {
      "cell_type": "code",
      "metadata": {
        "id": "3_crJfmbw4yQ"
      },
      "source": [
        "def setBTesting(Y,W):\n",
        "  X = np.dot(W,Y)\n",
        "  X[X>0] = 1\n",
        "  X[X<=0] = -1\n",
        "  return np.array(X)"
      ],
      "execution_count": 11,
      "outputs": []
    },
    {
      "cell_type": "code",
      "metadata": {
        "id": "8n6yso1LxNKN"
      },
      "source": [
        "X1test = setBTesting(Y1,WMat)\n",
        "X2test = setBTesting(Y2,WMat)\n",
        "X3test = setBTesting(Y3,WMat)\n",
        "X4test = setBTesting(Y4,WMat)"
      ],
      "execution_count": 12,
      "outputs": []
    },
    {
      "cell_type": "code",
      "metadata": {
        "id": "0b8LzoXjxgFX",
        "outputId": "e5be35ac-f04e-47fe-8c9d-34f92ac9bda3",
        "colab": {
          "base_uri": "https://localhost:8080/"
        }
      },
      "source": [
        "if X1test.all() == X1.all():\n",
        "  print(\"X1test: \")\n",
        "  print(X1test)\n",
        "  print(\"-------------------------------\")\n",
        "  print(\"X1: \")\n",
        "  print(X1)\n",
        "  print(\"Testing successful for input 1 of set B\")"
      ],
      "execution_count": 13,
      "outputs": [
        {
          "output_type": "stream",
          "text": [
            "X1test: \n",
            "[[1]\n",
            " [1]\n",
            " [1]\n",
            " [1]\n",
            " [1]\n",
            " [1]]\n",
            "-------------------------------\n",
            "X1: \n",
            "[[1]\n",
            " [1]\n",
            " [1]\n",
            " [1]\n",
            " [1]\n",
            " [1]]\n",
            "Testing successful for input 1 of set B\n"
          ],
          "name": "stdout"
        }
      ]
    },
    {
      "cell_type": "code",
      "metadata": {
        "id": "uQ2gR2M_xqe8",
        "outputId": "413d7347-f92c-44c1-9e1b-b30437406cf8",
        "colab": {
          "base_uri": "https://localhost:8080/"
        }
      },
      "source": [
        "if X2test.all() == X2.all():\n",
        "  print(\"X2test: \")\n",
        "  print(X2test)\n",
        "  print(\"-------------------------------\")\n",
        "  print(\"X2: \")\n",
        "  print(X2)\n",
        "  print(\"Testing successful for input 2 of set B\")"
      ],
      "execution_count": 14,
      "outputs": [
        {
          "output_type": "stream",
          "text": [
            "X2test: \n",
            "[[-1]\n",
            " [-1]\n",
            " [-1]\n",
            " [-1]\n",
            " [-1]\n",
            " [-1]]\n",
            "-------------------------------\n",
            "X2: \n",
            "[[-1]\n",
            " [-1]\n",
            " [-1]\n",
            " [-1]\n",
            " [-1]\n",
            " [-1]]\n",
            "Testing successful for input 2 of set B\n"
          ],
          "name": "stdout"
        }
      ]
    },
    {
      "cell_type": "code",
      "metadata": {
        "id": "SVY7snmPxqp8",
        "outputId": "308d063f-e28d-4904-edbe-8a2da4e96891",
        "colab": {
          "base_uri": "https://localhost:8080/"
        }
      },
      "source": [
        "if X3test.all() == X3.all():\n",
        "  print(\"X3test: \")\n",
        "  print(X3test)\n",
        "  print(\"-------------------------------\")\n",
        "  print(\"X3: \")\n",
        "  print(X3)\n",
        "  print(\"Testing successful for input 3 of set B\")"
      ],
      "execution_count": 15,
      "outputs": [
        {
          "output_type": "stream",
          "text": [
            "X3test: \n",
            "[[ 1]\n",
            " [-1]\n",
            " [-1]\n",
            " [ 1]\n",
            " [ 1]\n",
            " [ 1]]\n",
            "-------------------------------\n",
            "X3: \n",
            "[[ 1]\n",
            " [-1]\n",
            " [-1]\n",
            " [ 1]\n",
            " [ 1]\n",
            " [ 1]]\n",
            "Testing successful for input 3 of set B\n"
          ],
          "name": "stdout"
        }
      ]
    },
    {
      "cell_type": "code",
      "metadata": {
        "id": "TOgqSqg5xq0_",
        "outputId": "b7636df0-071c-41e5-9d11-9360a1faa47f",
        "colab": {
          "base_uri": "https://localhost:8080/"
        }
      },
      "source": [
        "if X4test.all() == X4.all():\n",
        "  print(\"X4test:\")\n",
        "  print(X4test)\n",
        "  print(\"-------------------------------\")\n",
        "  print(\"X4: \")\n",
        "  print(X4)\n",
        "  print(\"Testing successful for input 4 of set B\")"
      ],
      "execution_count": 16,
      "outputs": [
        {
          "output_type": "stream",
          "text": [
            "X4test:\n",
            "[[ 1]\n",
            " [ 1]\n",
            " [-1]\n",
            " [-1]\n",
            " [-1]\n",
            " [-1]]\n",
            "-------------------------------\n",
            "X4: \n",
            "[[ 1]\n",
            " [ 1]\n",
            " [-1]\n",
            " [-1]\n",
            " [-1]\n",
            " [-1]]\n",
            "Testing successful for input 4 of set B\n"
          ],
          "name": "stdout"
        }
      ]
    }
  ]
}